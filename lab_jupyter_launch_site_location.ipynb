{
  "metadata": {
    "kernelspec": {
      "name": "python",
      "display_name": "Python (Pyodide)",
      "language": "python"
    },
    "language_info": {
      "codemirror_mode": {
        "name": "python",
        "version": 3
      },
      "file_extension": ".py",
      "mimetype": "text/x-python",
      "name": "python",
      "nbconvert_exporter": "python",
      "pygments_lexer": "ipython3",
      "version": "3.8"
    },
    "prev_pub_hash": "0f9db842b41c859223722809f8be602f5df9334348bd206b11e3af58c30eb345"
  },
  "nbformat_minor": 4,
  "nbformat": 4,
  "cells": [
    {
      "cell_type": "markdown",
      "source": "",
      "metadata": {}
    },
    {
      "cell_type": "markdown",
      "source": "# **Hands-on Lab: Interactive Visual Analytics with Folium**\n",
      "metadata": {}
    },
    {
      "cell_type": "markdown",
      "source": "Estimated time needed: **40** minutes\n",
      "metadata": {}
    },
    {
      "cell_type": "markdown",
      "source": "The launch success rate may depend on many factors such as payload mass, orbit type, and so on. It may also depend on the location and proximities of a launch site, i.e., the initial position of rocket trajectories. Finding an optimal location for building a launch site certainly involves many factors and hopefully we could discover some of the factors by analyzing the existing launch site locations.\n",
      "metadata": {}
    },
    {
      "cell_type": "markdown",
      "source": "In the previous exploratory data analysis labs, you have visualized the SpaceX launch dataset using `matplotlib` and `seaborn` and discovered some preliminary correlations between the launch site and success rates. In this lab, you will be performing more interactive visual analytics using `Folium`.\n",
      "metadata": {}
    },
    {
      "cell_type": "markdown",
      "source": "## Objectives\n",
      "metadata": {}
    },
    {
      "cell_type": "markdown",
      "source": "This lab contains the following tasks:\n\n*   **TASK 1:** Mark all launch sites on a map\n*   **TASK 2:** Mark the success/failed launches for each site on the map\n*   **TASK 3:** Calculate the distances between a launch site to its proximities\n\nAfter completed the above tasks, you should be able to find some geographical patterns about launch sites.\n",
      "metadata": {}
    },
    {
      "cell_type": "markdown",
      "source": "Let's first import required Python packages for this lab:\n",
      "metadata": {}
    },
    {
      "cell_type": "code",
      "source": "import piplite\nawait piplite.install(['folium'])\nawait piplite.install(['pandas'])",
      "metadata": {
        "trusted": true
      },
      "outputs": [],
      "execution_count": 1
    },
    {
      "cell_type": "code",
      "source": "import folium\nimport pandas as pd",
      "metadata": {
        "trusted": true
      },
      "outputs": [],
      "execution_count": 2
    },
    {
      "cell_type": "code",
      "source": "# Import folium MarkerCluster plugin\nfrom folium.plugins import MarkerCluster\n# Import folium MousePosition plugin\nfrom folium.plugins import MousePosition\n# Import folium DivIcon plugin\nfrom folium.features import DivIcon",
      "metadata": {
        "trusted": true
      },
      "outputs": [],
      "execution_count": 3
    },
    {
      "cell_type": "markdown",
      "source": "If you need to refresh your memory about folium, you may download and refer to this previous folium lab:\n",
      "metadata": {}
    },
    {
      "cell_type": "markdown",
      "source": "[Generating Maps with Python](https://cf-courses-data.s3.us.cloud-object-storage.appdomain.cloud/IBMDeveloperSkillsNetwork-DV0101EN-SkillsNetwork/labs/v4/DV0101EN-Exercise-Generating-Maps-in-Python.ipynb)\n",
      "metadata": {}
    },
    {
      "cell_type": "code",
      "source": "## Task 1: Mark all launch sites on a map\n",
      "metadata": {},
      "outputs": [],
      "execution_count": null
    },
    {
      "cell_type": "markdown",
      "source": "First, let's try to add each site's location on a map using site's latitude and longitude coordinates\n",
      "metadata": {}
    },
    {
      "cell_type": "markdown",
      "source": "The following dataset with the name `spacex_launch_geo.csv` is an augmented dataset with latitude and longitude added for each site.\n",
      "metadata": {}
    },
    {
      "cell_type": "code",
      "source": "# Download and read the `spacex_launch_geo.csv`\nfrom js import fetch\nimport io\n\nURL = 'https://cf-courses-data.s3.us.cloud-object-storage.appdomain.cloud/IBM-DS0321EN-SkillsNetwork/datasets/spacex_launch_geo.csv'\nresp = await fetch(URL)\nspacex_csv_file = io.BytesIO((await resp.arrayBuffer()).to_py())\nspacex_df=pd.read_csv(spacex_csv_file)",
      "metadata": {
        "trusted": true
      },
      "outputs": [],
      "execution_count": 4
    },
    {
      "cell_type": "markdown",
      "source": "Now, you can take a look at what are the coordinates for each site.\n",
      "metadata": {}
    },
    {
      "cell_type": "code",
      "source": "# Select relevant sub-columns: `Launch Site`, `Lat(Latitude)`, `Long(Longitude)`, `class`\nspacex_df = spacex_df[['Launch Site', 'Lat', 'Long', 'class']]\nlaunch_sites_df = spacex_df.groupby(['Launch Site'], as_index=False).first()\nlaunch_sites_df = launch_sites_df[['Launch Site', 'Lat', 'Long']]\nlaunch_sites_df",
      "metadata": {
        "trusted": true
      },
      "outputs": [
        {
          "execution_count": 5,
          "output_type": "execute_result",
          "data": {
            "text/plain": "    Launch Site        Lat        Long\n0   CCAFS LC-40  28.562302  -80.577356\n1  CCAFS SLC-40  28.563197  -80.576820\n2    KSC LC-39A  28.573255  -80.646895\n3   VAFB SLC-4E  34.632834 -120.610745",
            "text/html": "<div>\n<style scoped>\n    .dataframe tbody tr th:only-of-type {\n        vertical-align: middle;\n    }\n\n    .dataframe tbody tr th {\n        vertical-align: top;\n    }\n\n    .dataframe thead th {\n        text-align: right;\n    }\n</style>\n<table border=\"1\" class=\"dataframe\">\n  <thead>\n    <tr style=\"text-align: right;\">\n      <th></th>\n      <th>Launch Site</th>\n      <th>Lat</th>\n      <th>Long</th>\n    </tr>\n  </thead>\n  <tbody>\n    <tr>\n      <th>0</th>\n      <td>CCAFS LC-40</td>\n      <td>28.562302</td>\n      <td>-80.577356</td>\n    </tr>\n    <tr>\n      <th>1</th>\n      <td>CCAFS SLC-40</td>\n      <td>28.563197</td>\n      <td>-80.576820</td>\n    </tr>\n    <tr>\n      <th>2</th>\n      <td>KSC LC-39A</td>\n      <td>28.573255</td>\n      <td>-80.646895</td>\n    </tr>\n    <tr>\n      <th>3</th>\n      <td>VAFB SLC-4E</td>\n      <td>34.632834</td>\n      <td>-120.610745</td>\n    </tr>\n  </tbody>\n</table>\n</div>"
          },
          "metadata": {}
        }
      ],
      "execution_count": 5
    },
    {
      "cell_type": "code",
      "source": "# Display the first few rows\nspacex_df.head()\n",
      "metadata": {
        "trusted": true
      },
      "outputs": [
        {
          "execution_count": 10,
          "output_type": "execute_result",
          "data": {
            "text/plain": "   Launch Site        Lat       Long  class\n0  CCAFS LC-40  28.562302 -80.577356      0\n1  CCAFS LC-40  28.562302 -80.577356      0\n2  CCAFS LC-40  28.562302 -80.577356      0\n3  CCAFS LC-40  28.562302 -80.577356      0\n4  CCAFS LC-40  28.562302 -80.577356      0",
            "text/html": "<div>\n<style scoped>\n    .dataframe tbody tr th:only-of-type {\n        vertical-align: middle;\n    }\n\n    .dataframe tbody tr th {\n        vertical-align: top;\n    }\n\n    .dataframe thead th {\n        text-align: right;\n    }\n</style>\n<table border=\"1\" class=\"dataframe\">\n  <thead>\n    <tr style=\"text-align: right;\">\n      <th></th>\n      <th>Launch Site</th>\n      <th>Lat</th>\n      <th>Long</th>\n      <th>class</th>\n    </tr>\n  </thead>\n  <tbody>\n    <tr>\n      <th>0</th>\n      <td>CCAFS LC-40</td>\n      <td>28.562302</td>\n      <td>-80.577356</td>\n      <td>0</td>\n    </tr>\n    <tr>\n      <th>1</th>\n      <td>CCAFS LC-40</td>\n      <td>28.562302</td>\n      <td>-80.577356</td>\n      <td>0</td>\n    </tr>\n    <tr>\n      <th>2</th>\n      <td>CCAFS LC-40</td>\n      <td>28.562302</td>\n      <td>-80.577356</td>\n      <td>0</td>\n    </tr>\n    <tr>\n      <th>3</th>\n      <td>CCAFS LC-40</td>\n      <td>28.562302</td>\n      <td>-80.577356</td>\n      <td>0</td>\n    </tr>\n    <tr>\n      <th>4</th>\n      <td>CCAFS LC-40</td>\n      <td>28.562302</td>\n      <td>-80.577356</td>\n      <td>0</td>\n    </tr>\n  </tbody>\n</table>\n</div>"
          },
          "metadata": {}
        }
      ],
      "execution_count": 10
    },
    {
      "cell_type": "markdown",
      "source": "Above coordinates are just plain numbers that can not give you any intuitive insights about where are those launch sites. If you are very good at geography, you can interpret those numbers directly in your mind. If not, that's fine too. Let's visualize those locations by pinning them on a map.\n",
      "metadata": {}
    },
    {
      "cell_type": "markdown",
      "source": "We first need to create a folium `Map` object, with an initial center location to be NASA Johnson Space Center at Houston, Texas.\n",
      "metadata": {}
    },
    {
      "cell_type": "code",
      "source": "# Start location is NASA Johnson Space Center\nnasa_coordinate = [29.559684888503615, -95.0830971930759]\nsite_map = folium.Map(location=nasa_coordinate, zoom_start=10)",
      "metadata": {
        "trusted": true
      },
      "outputs": [],
      "execution_count": 6
    },
    {
      "cell_type": "markdown",
      "source": "We could use `folium.Circle` to add a highlighted circle area with a text label on a specific coordinate. For example,\n",
      "metadata": {}
    },
    {
      "cell_type": "code",
      "source": "# Create a blue circle at NASA Johnson Space Center's coordinate with a popup label showing its name\ncircle = folium.Circle(nasa_coordinate, radius=1000, color='#d35400', fill=True).add_child(folium.Popup('NASA Johnson Space Center'))\n# Create a blue circle at NASA Johnson Space Center's coordinate with a icon showing its name\nmarker = folium.map.Marker(\n    nasa_coordinate,\n    # Create an icon as a text label\n    icon=DivIcon(\n        icon_size=(20,20),\n        icon_anchor=(0,0),\n        html='<div style=\"font-size: 12; color:#d35400;\"><b>%s</b></div>' % 'NASA JSC',\n        )\n    )\nsite_map.add_child(circle)\nsite_map.add_child(marker)",
      "metadata": {
        "trusted": true
      },
      "outputs": [
        {
          "execution_count": 17,
          "output_type": "execute_result",
          "data": {
            "text/plain": "<folium.folium.Map at 0x5e9d4b8>",
            "text/html": "<div style=\"width:100%;\"><div style=\"position:relative;width:100%;height:0;padding-bottom:60%;\"><span style=\"color:#565656\">Make this Notebook Trusted to load map: File -> Trust Notebook</span><iframe srcdoc=\"&lt;!DOCTYPE html&gt;\n&lt;html&gt;\n&lt;head&gt;\n    \n    &lt;meta http-equiv=&quot;content-type&quot; content=&quot;text/html; charset=UTF-8&quot; /&gt;\n    &lt;script src=&quot;https://cdn.jsdelivr.net/npm/leaflet@1.9.3/dist/leaflet.js&quot;&gt;&lt;/script&gt;\n    &lt;script src=&quot;https://code.jquery.com/jquery-3.7.1.min.js&quot;&gt;&lt;/script&gt;\n    &lt;script src=&quot;https://cdn.jsdelivr.net/npm/bootstrap@5.2.2/dist/js/bootstrap.bundle.min.js&quot;&gt;&lt;/script&gt;\n    &lt;script src=&quot;https://cdnjs.cloudflare.com/ajax/libs/Leaflet.awesome-markers/2.0.2/leaflet.awesome-markers.js&quot;&gt;&lt;/script&gt;\n    &lt;link rel=&quot;stylesheet&quot; href=&quot;https://cdn.jsdelivr.net/npm/leaflet@1.9.3/dist/leaflet.css&quot;/&gt;\n    &lt;link rel=&quot;stylesheet&quot; href=&quot;https://cdn.jsdelivr.net/npm/bootstrap@5.2.2/dist/css/bootstrap.min.css&quot;/&gt;\n    &lt;link rel=&quot;stylesheet&quot; href=&quot;https://netdna.bootstrapcdn.com/bootstrap/3.0.0/css/bootstrap-glyphicons.css&quot;/&gt;\n    &lt;link rel=&quot;stylesheet&quot; href=&quot;https://cdn.jsdelivr.net/npm/@fortawesome/fontawesome-free@6.2.0/css/all.min.css&quot;/&gt;\n    &lt;link rel=&quot;stylesheet&quot; href=&quot;https://cdnjs.cloudflare.com/ajax/libs/Leaflet.awesome-markers/2.0.2/leaflet.awesome-markers.css&quot;/&gt;\n    &lt;link rel=&quot;stylesheet&quot; href=&quot;https://cdn.jsdelivr.net/gh/python-visualization/folium/folium/templates/leaflet.awesome.rotate.min.css&quot;/&gt;\n    \n            &lt;meta name=&quot;viewport&quot; content=&quot;width=device-width,\n                initial-scale=1.0, maximum-scale=1.0, user-scalable=no&quot; /&gt;\n            &lt;style&gt;\n                #map_60135555352fd924b7c3a9cd46b82165 {\n                    position: relative;\n                    width: 100.0%;\n                    height: 100.0%;\n                    left: 0.0%;\n                    top: 0.0%;\n                }\n                .leaflet-container { font-size: 1rem; }\n            &lt;/style&gt;\n\n            &lt;style&gt;html, body {\n                width: 100%;\n                height: 100%;\n                margin: 0;\n                padding: 0;\n            }\n            &lt;/style&gt;\n\n            &lt;style&gt;#map {\n                position:absolute;\n                top:0;\n                bottom:0;\n                right:0;\n                left:0;\n                }\n            &lt;/style&gt;\n\n            &lt;script&gt;\n                L_NO_TOUCH = false;\n                L_DISABLE_3D = false;\n            &lt;/script&gt;\n\n        \n&lt;/head&gt;\n&lt;body&gt;\n    \n    \n            &lt;div class=&quot;folium-map&quot; id=&quot;map_60135555352fd924b7c3a9cd46b82165&quot; &gt;&lt;/div&gt;\n        \n&lt;/body&gt;\n&lt;script&gt;\n    \n    \n            var map_60135555352fd924b7c3a9cd46b82165 = L.map(\n                &quot;map_60135555352fd924b7c3a9cd46b82165&quot;,\n                {\n                    center: [29.559684888503615, -95.0830971930759],\n                    crs: L.CRS.EPSG3857,\n                    ...{\n  &quot;zoom&quot;: 5,\n  &quot;zoomControl&quot;: true,\n  &quot;preferCanvas&quot;: false,\n}\n\n                }\n            );\n\n            \n\n        \n    \n            var tile_layer_95bc4e6307bfcb40b852c7ee26e89300 = L.tileLayer(\n                &quot;https://tile.openstreetmap.org/{z}/{x}/{y}.png&quot;,\n                {\n  &quot;minZoom&quot;: 0,\n  &quot;maxZoom&quot;: 19,\n  &quot;maxNativeZoom&quot;: 19,\n  &quot;noWrap&quot;: false,\n  &quot;attribution&quot;: &quot;\\u0026copy; \\u003ca href=\\&quot;https://www.openstreetmap.org/copyright\\&quot;\\u003eOpenStreetMap\\u003c/a\\u003e contributors&quot;,\n  &quot;subdomains&quot;: &quot;abc&quot;,\n  &quot;detectRetina&quot;: false,\n  &quot;tms&quot;: false,\n  &quot;opacity&quot;: 1,\n}\n\n            );\n        \n    \n            tile_layer_95bc4e6307bfcb40b852c7ee26e89300.addTo(map_60135555352fd924b7c3a9cd46b82165);\n        \n    \n            var circle_723c1edcb48e2986c14d5173202afe5b = L.circle(\n                [29.559684888503615, -95.0830971930759],\n                {&quot;bubblingMouseEvents&quot;: true, &quot;color&quot;: &quot;#d35400&quot;, &quot;dashArray&quot;: null, &quot;dashOffset&quot;: null, &quot;fill&quot;: true, &quot;fillColor&quot;: &quot;#d35400&quot;, &quot;fillOpacity&quot;: 0.2, &quot;fillRule&quot;: &quot;evenodd&quot;, &quot;lineCap&quot;: &quot;round&quot;, &quot;lineJoin&quot;: &quot;round&quot;, &quot;opacity&quot;: 1.0, &quot;radius&quot;: 1000, &quot;stroke&quot;: true, &quot;weight&quot;: 3}\n            ).addTo(map_60135555352fd924b7c3a9cd46b82165);\n        \n    \n        var popup_2db6e1c626bcb0af22e8612053157b75 = L.popup({\n  &quot;maxWidth&quot;: &quot;100%&quot;,\n});\n\n        \n            \n                var html_01c1a10ea2e184c1b638787fa8007d74 = $(`&lt;div id=&quot;html_01c1a10ea2e184c1b638787fa8007d74&quot; style=&quot;width: 100.0%; height: 100.0%;&quot;&gt;NASA Johnson Space Center&lt;/div&gt;`)[0];\n                popup_2db6e1c626bcb0af22e8612053157b75.setContent(html_01c1a10ea2e184c1b638787fa8007d74);\n            \n        \n\n        circle_723c1edcb48e2986c14d5173202afe5b.bindPopup(popup_2db6e1c626bcb0af22e8612053157b75)\n        ;\n\n        \n    \n    \n            var marker_82649197d1a5e832e4320a1e26b15f9e = L.marker(\n                [29.559684888503615, -95.0830971930759],\n                {\n}\n            ).addTo(map_60135555352fd924b7c3a9cd46b82165);\n        \n    \n            var div_icon_4b738e9252aaeba8e0d486ed42844502 = L.divIcon({\n  &quot;html&quot;: &quot;\\u003cdiv style=\\&quot;font-size: 12; color:#d35400;\\&quot;\\u003e\\u003cb\\u003eNASA JSC\\u003c/b\\u003e\\u003c/div\\u003e&quot;,\n  &quot;iconSize&quot;: [20, 20],\n  &quot;iconAnchor&quot;: [0, 0],\n  &quot;className&quot;: &quot;empty&quot;,\n});\n        \n    \n                marker_82649197d1a5e832e4320a1e26b15f9e.setIcon(div_icon_4b738e9252aaeba8e0d486ed42844502);\n            \n    \n            tile_layer_95bc4e6307bfcb40b852c7ee26e89300.addTo(map_60135555352fd924b7c3a9cd46b82165);\n        \n    \n                marker_82649197d1a5e832e4320a1e26b15f9e.setIcon(div_icon_4b738e9252aaeba8e0d486ed42844502);\n            \n    \n            var circle_888885a135dc5b4a373ce29c881d0163 = L.circle(\n                [29.559684888503615, -95.0830971930759],\n                {&quot;bubblingMouseEvents&quot;: true, &quot;color&quot;: &quot;#d35400&quot;, &quot;dashArray&quot;: null, &quot;dashOffset&quot;: null, &quot;fill&quot;: true, &quot;fillColor&quot;: &quot;#d35400&quot;, &quot;fillOpacity&quot;: 0.2, &quot;fillRule&quot;: &quot;evenodd&quot;, &quot;lineCap&quot;: &quot;round&quot;, &quot;lineJoin&quot;: &quot;round&quot;, &quot;opacity&quot;: 1.0, &quot;radius&quot;: 1000, &quot;stroke&quot;: true, &quot;weight&quot;: 3}\n            ).addTo(map_60135555352fd924b7c3a9cd46b82165);\n        \n    \n        var popup_ace415a3e994b08a529606ba433a3ea4 = L.popup({\n  &quot;maxWidth&quot;: &quot;100%&quot;,\n});\n\n        \n            \n                var html_5be1cf68b37025c85dcbf2e221d3859c = $(`&lt;div id=&quot;html_5be1cf68b37025c85dcbf2e221d3859c&quot; style=&quot;width: 100.0%; height: 100.0%;&quot;&gt;NASA Johnson Space Center&lt;/div&gt;`)[0];\n                popup_ace415a3e994b08a529606ba433a3ea4.setContent(html_5be1cf68b37025c85dcbf2e221d3859c);\n            \n        \n\n        circle_888885a135dc5b4a373ce29c881d0163.bindPopup(popup_ace415a3e994b08a529606ba433a3ea4)\n        ;\n\n        \n    \n    \n            var marker_26730469c8dba96580451dc7dde59187 = L.marker(\n                [29.559684888503615, -95.0830971930759],\n                {\n}\n            ).addTo(map_60135555352fd924b7c3a9cd46b82165);\n        \n    \n            var div_icon_5196e0d47d63ec26e4f846a9edee11c3 = L.divIcon({\n  &quot;html&quot;: &quot;\\u003cdiv style=\\&quot;font-size: 12; color:#d35400;\\&quot;\\u003e\\u003cb\\u003eNASA JSC\\u003c/b\\u003e\\u003c/div\\u003e&quot;,\n  &quot;iconSize&quot;: [20, 20],\n  &quot;iconAnchor&quot;: [0, 0],\n  &quot;className&quot;: &quot;empty&quot;,\n});\n        \n    \n                marker_26730469c8dba96580451dc7dde59187.setIcon(div_icon_5196e0d47d63ec26e4f846a9edee11c3);\n            \n    \n            tile_layer_95bc4e6307bfcb40b852c7ee26e89300.addTo(map_60135555352fd924b7c3a9cd46b82165);\n        \n    \n                marker_82649197d1a5e832e4320a1e26b15f9e.setIcon(div_icon_4b738e9252aaeba8e0d486ed42844502);\n            \n    \n                marker_26730469c8dba96580451dc7dde59187.setIcon(div_icon_5196e0d47d63ec26e4f846a9edee11c3);\n            \n    \n            var circle_35429174f33d4c5bf23a81df989d0e0f = L.circle(\n                [29.559684888503615, -95.0830971930759],\n                {&quot;bubblingMouseEvents&quot;: true, &quot;color&quot;: &quot;#d35400&quot;, &quot;dashArray&quot;: null, &quot;dashOffset&quot;: null, &quot;fill&quot;: true, &quot;fillColor&quot;: &quot;#d35400&quot;, &quot;fillOpacity&quot;: 0.2, &quot;fillRule&quot;: &quot;evenodd&quot;, &quot;lineCap&quot;: &quot;round&quot;, &quot;lineJoin&quot;: &quot;round&quot;, &quot;opacity&quot;: 1.0, &quot;radius&quot;: 1000, &quot;stroke&quot;: true, &quot;weight&quot;: 3}\n            ).addTo(map_60135555352fd924b7c3a9cd46b82165);\n        \n    \n        var popup_37ada5313e76fa7fea306f85d62e6e11 = L.popup({\n  &quot;maxWidth&quot;: &quot;100%&quot;,\n});\n\n        \n            \n                var html_70784037b960e907cc065ad40f3905a6 = $(`&lt;div id=&quot;html_70784037b960e907cc065ad40f3905a6&quot; style=&quot;width: 100.0%; height: 100.0%;&quot;&gt;NASA Johnson Space Center&lt;/div&gt;`)[0];\n                popup_37ada5313e76fa7fea306f85d62e6e11.setContent(html_70784037b960e907cc065ad40f3905a6);\n            \n        \n\n        circle_35429174f33d4c5bf23a81df989d0e0f.bindPopup(popup_37ada5313e76fa7fea306f85d62e6e11)\n        ;\n\n        \n    \n    \n            var marker_78f570a7beb6a86e04f5bd4a4af17aa3 = L.marker(\n                [29.559684888503615, -95.0830971930759],\n                {\n}\n            ).addTo(map_60135555352fd924b7c3a9cd46b82165);\n        \n    \n            var div_icon_4d034184288fb8de6acb7ead5ba5c344 = L.divIcon({\n  &quot;html&quot;: &quot;\\u003cdiv style=\\&quot;font-size: 12; color:#d35400;\\&quot;\\u003e\\u003cb\\u003eNASA JSC\\u003c/b\\u003e\\u003c/div\\u003e&quot;,\n  &quot;iconSize&quot;: [20, 20],\n  &quot;iconAnchor&quot;: [0, 0],\n  &quot;className&quot;: &quot;empty&quot;,\n});\n        \n    \n                marker_78f570a7beb6a86e04f5bd4a4af17aa3.setIcon(div_icon_4d034184288fb8de6acb7ead5ba5c344);\n            \n&lt;/script&gt;\n&lt;/html&gt;\" style=\"position:absolute;width:100%;height:100%;left:0;top:0;border:none !important;\" allowfullscreen webkitallowfullscreen mozallowfullscreen></iframe></div></div>"
          },
          "metadata": {}
        }
      ],
      "execution_count": 17
    },
    {
      "cell_type": "markdown",
      "source": "and you should find a small yellow circle near the city of Houston and you can zoom-in to see a larger circle.\n",
      "metadata": {}
    },
    {
      "cell_type": "markdown",
      "source": "Now, let's add a circle for each launch site in data frame `launch_sites`\n",
      "metadata": {}
    },
    {
      "cell_type": "markdown",
      "source": "*TODO:*  Create and add `folium.Circle` and `folium.Marker` for each launch site on the site map\n",
      "metadata": {}
    },
    {
      "cell_type": "markdown",
      "source": "An example of folium.Circle:\n",
      "metadata": {}
    },
    {
      "cell_type": "markdown",
      "source": "`folium.Circle(coordinate, radius=1000, color='#000000', fill=True).add_child(folium.Popup(...))`\n",
      "metadata": {}
    },
    {
      "cell_type": "markdown",
      "source": "An example of folium.Marker:\n",
      "metadata": {}
    },
    {
      "cell_type": "markdown",
      "source": "`folium.map.Marker(coordinate, icon=DivIcon(icon_size=(20,20),icon_anchor=(0,0), html='<div style=\"font-size: 12; color:#d35400;\"><b>%s</b></div>' % 'label', ))`\n",
      "metadata": {}
    },
    {
      "cell_type": "code",
      "source": "import folium\nfrom folium.features import DivIcon\n\n# Center map at NASA Johnson Space Center\nnasa_coordinate = [29.5596845, -95.083097]  # Houston, TX\nsite_map = folium.Map(location=nasa_coordinate, zoom_start=5)\n\n# Loop through all launch sites\nfor idx, row in launch_sites_df.iterrows():\n    # Add a circle for each launch site\n    folium.Circle(\n        location=[row['Lat'], row['Long']],\n        radius=1000,\n        color='blue',\n        fill=True,\n        fill_color='yellow',\n        fill_opacity=0.6\n    ).add_child(\n        folium.Popup(f\"Launch Site: {row['Launch Site']}\")\n    ).add_to(site_map)\n    \n    # Add a text marker for each launch site\n    folium.map.Marker(\n        [row['Lat'], row['Long']],\n        icon=DivIcon(\n            icon_size=(20,20),\n            icon_anchor=(0,0),\n            html=f'<div style=\"font-size: 12px; color:#d35400;\"><b>{row[\"Launch Site\"]}</b></div>'\n        )\n    ).add_to(site_map)\n\n# Display the map\nsite_map\n",
      "metadata": {
        "trusted": true
      },
      "outputs": [
        {
          "execution_count": 23,
          "output_type": "execute_result",
          "data": {
            "text/plain": "<folium.folium.Map at 0x6f7fd10>",
            "text/html": "<div style=\"width:100%;\"><div style=\"position:relative;width:100%;height:0;padding-bottom:60%;\"><span style=\"color:#565656\">Make this Notebook Trusted to load map: File -> Trust Notebook</span><iframe srcdoc=\"&lt;!DOCTYPE html&gt;\n&lt;html&gt;\n&lt;head&gt;\n    \n    &lt;meta http-equiv=&quot;content-type&quot; content=&quot;text/html; charset=UTF-8&quot; /&gt;\n    &lt;script src=&quot;https://cdn.jsdelivr.net/npm/leaflet@1.9.3/dist/leaflet.js&quot;&gt;&lt;/script&gt;\n    &lt;script src=&quot;https://code.jquery.com/jquery-3.7.1.min.js&quot;&gt;&lt;/script&gt;\n    &lt;script src=&quot;https://cdn.jsdelivr.net/npm/bootstrap@5.2.2/dist/js/bootstrap.bundle.min.js&quot;&gt;&lt;/script&gt;\n    &lt;script src=&quot;https://cdnjs.cloudflare.com/ajax/libs/Leaflet.awesome-markers/2.0.2/leaflet.awesome-markers.js&quot;&gt;&lt;/script&gt;\n    &lt;link rel=&quot;stylesheet&quot; href=&quot;https://cdn.jsdelivr.net/npm/leaflet@1.9.3/dist/leaflet.css&quot;/&gt;\n    &lt;link rel=&quot;stylesheet&quot; href=&quot;https://cdn.jsdelivr.net/npm/bootstrap@5.2.2/dist/css/bootstrap.min.css&quot;/&gt;\n    &lt;link rel=&quot;stylesheet&quot; href=&quot;https://netdna.bootstrapcdn.com/bootstrap/3.0.0/css/bootstrap-glyphicons.css&quot;/&gt;\n    &lt;link rel=&quot;stylesheet&quot; href=&quot;https://cdn.jsdelivr.net/npm/@fortawesome/fontawesome-free@6.2.0/css/all.min.css&quot;/&gt;\n    &lt;link rel=&quot;stylesheet&quot; href=&quot;https://cdnjs.cloudflare.com/ajax/libs/Leaflet.awesome-markers/2.0.2/leaflet.awesome-markers.css&quot;/&gt;\n    &lt;link rel=&quot;stylesheet&quot; href=&quot;https://cdn.jsdelivr.net/gh/python-visualization/folium/folium/templates/leaflet.awesome.rotate.min.css&quot;/&gt;\n    \n            &lt;meta name=&quot;viewport&quot; content=&quot;width=device-width,\n                initial-scale=1.0, maximum-scale=1.0, user-scalable=no&quot; /&gt;\n            &lt;style&gt;\n                #map_fd2536cc9feea65a9a4b348189bdfb55 {\n                    position: relative;\n                    width: 100.0%;\n                    height: 100.0%;\n                    left: 0.0%;\n                    top: 0.0%;\n                }\n                .leaflet-container { font-size: 1rem; }\n            &lt;/style&gt;\n\n            &lt;style&gt;html, body {\n                width: 100%;\n                height: 100%;\n                margin: 0;\n                padding: 0;\n            }\n            &lt;/style&gt;\n\n            &lt;style&gt;#map {\n                position:absolute;\n                top:0;\n                bottom:0;\n                right:0;\n                left:0;\n                }\n            &lt;/style&gt;\n\n            &lt;script&gt;\n                L_NO_TOUCH = false;\n                L_DISABLE_3D = false;\n            &lt;/script&gt;\n\n        \n&lt;/head&gt;\n&lt;body&gt;\n    \n    \n            &lt;div class=&quot;folium-map&quot; id=&quot;map_fd2536cc9feea65a9a4b348189bdfb55&quot; &gt;&lt;/div&gt;\n        \n&lt;/body&gt;\n&lt;script&gt;\n    \n    \n            var map_fd2536cc9feea65a9a4b348189bdfb55 = L.map(\n                &quot;map_fd2536cc9feea65a9a4b348189bdfb55&quot;,\n                {\n                    center: [29.5596845, -95.083097],\n                    crs: L.CRS.EPSG3857,\n                    ...{\n  &quot;zoom&quot;: 5,\n  &quot;zoomControl&quot;: true,\n  &quot;preferCanvas&quot;: false,\n}\n\n                }\n            );\n\n            \n\n        \n    \n            var tile_layer_1d762bd1cedce86bdfeca8a88474dcff = L.tileLayer(\n                &quot;https://tile.openstreetmap.org/{z}/{x}/{y}.png&quot;,\n                {\n  &quot;minZoom&quot;: 0,\n  &quot;maxZoom&quot;: 19,\n  &quot;maxNativeZoom&quot;: 19,\n  &quot;noWrap&quot;: false,\n  &quot;attribution&quot;: &quot;\\u0026copy; \\u003ca href=\\&quot;https://www.openstreetmap.org/copyright\\&quot;\\u003eOpenStreetMap\\u003c/a\\u003e contributors&quot;,\n  &quot;subdomains&quot;: &quot;abc&quot;,\n  &quot;detectRetina&quot;: false,\n  &quot;tms&quot;: false,\n  &quot;opacity&quot;: 1,\n}\n\n            );\n        \n    \n            tile_layer_1d762bd1cedce86bdfeca8a88474dcff.addTo(map_fd2536cc9feea65a9a4b348189bdfb55);\n        \n    \n            var circle_9866ca7ef8637ecfb5e685623b82feba = L.circle(\n                [28.56230197, -80.57735648],\n                {&quot;bubblingMouseEvents&quot;: true, &quot;color&quot;: &quot;blue&quot;, &quot;dashArray&quot;: null, &quot;dashOffset&quot;: null, &quot;fill&quot;: true, &quot;fillColor&quot;: &quot;yellow&quot;, &quot;fillOpacity&quot;: 0.6, &quot;fillRule&quot;: &quot;evenodd&quot;, &quot;lineCap&quot;: &quot;round&quot;, &quot;lineJoin&quot;: &quot;round&quot;, &quot;opacity&quot;: 1.0, &quot;radius&quot;: 1000, &quot;stroke&quot;: true, &quot;weight&quot;: 3}\n            ).addTo(map_fd2536cc9feea65a9a4b348189bdfb55);\n        \n    \n        var popup_38628552f36e97197b4769dc7a3737e7 = L.popup({\n  &quot;maxWidth&quot;: &quot;100%&quot;,\n});\n\n        \n            \n                var html_997a5657b35bc4a1710011f8ff8dc83d = $(`&lt;div id=&quot;html_997a5657b35bc4a1710011f8ff8dc83d&quot; style=&quot;width: 100.0%; height: 100.0%;&quot;&gt;Launch Site: CCAFS LC-40&lt;/div&gt;`)[0];\n                popup_38628552f36e97197b4769dc7a3737e7.setContent(html_997a5657b35bc4a1710011f8ff8dc83d);\n            \n        \n\n        circle_9866ca7ef8637ecfb5e685623b82feba.bindPopup(popup_38628552f36e97197b4769dc7a3737e7)\n        ;\n\n        \n    \n    \n            var marker_3f5541a343db1ec5cb9cbe8f38e80348 = L.marker(\n                [28.56230197, -80.57735648],\n                {\n}\n            ).addTo(map_fd2536cc9feea65a9a4b348189bdfb55);\n        \n    \n            var div_icon_44433c294f28c3a11258d4d56176998e = L.divIcon({\n  &quot;html&quot;: &quot;\\u003cdiv style=\\&quot;font-size: 12px; color:#d35400;\\&quot;\\u003e\\u003cb\\u003eCCAFS LC-40\\u003c/b\\u003e\\u003c/div\\u003e&quot;,\n  &quot;iconSize&quot;: [20, 20],\n  &quot;iconAnchor&quot;: [0, 0],\n  &quot;className&quot;: &quot;empty&quot;,\n});\n        \n    \n                marker_3f5541a343db1ec5cb9cbe8f38e80348.setIcon(div_icon_44433c294f28c3a11258d4d56176998e);\n            \n    \n            var circle_457a0703234d67de6020fc42edd1da8e = L.circle(\n                [28.56319718, -80.57682003],\n                {&quot;bubblingMouseEvents&quot;: true, &quot;color&quot;: &quot;blue&quot;, &quot;dashArray&quot;: null, &quot;dashOffset&quot;: null, &quot;fill&quot;: true, &quot;fillColor&quot;: &quot;yellow&quot;, &quot;fillOpacity&quot;: 0.6, &quot;fillRule&quot;: &quot;evenodd&quot;, &quot;lineCap&quot;: &quot;round&quot;, &quot;lineJoin&quot;: &quot;round&quot;, &quot;opacity&quot;: 1.0, &quot;radius&quot;: 1000, &quot;stroke&quot;: true, &quot;weight&quot;: 3}\n            ).addTo(map_fd2536cc9feea65a9a4b348189bdfb55);\n        \n    \n        var popup_9f934480d5ad2c8cc10e5e40b30460a4 = L.popup({\n  &quot;maxWidth&quot;: &quot;100%&quot;,\n});\n\n        \n            \n                var html_91037a4d4564a97402d236a262ded740 = $(`&lt;div id=&quot;html_91037a4d4564a97402d236a262ded740&quot; style=&quot;width: 100.0%; height: 100.0%;&quot;&gt;Launch Site: CCAFS SLC-40&lt;/div&gt;`)[0];\n                popup_9f934480d5ad2c8cc10e5e40b30460a4.setContent(html_91037a4d4564a97402d236a262ded740);\n            \n        \n\n        circle_457a0703234d67de6020fc42edd1da8e.bindPopup(popup_9f934480d5ad2c8cc10e5e40b30460a4)\n        ;\n\n        \n    \n    \n            var marker_e48d6ff080a0be7838070285cbe69b7e = L.marker(\n                [28.56319718, -80.57682003],\n                {\n}\n            ).addTo(map_fd2536cc9feea65a9a4b348189bdfb55);\n        \n    \n            var div_icon_8e9d7e818b3daf9a24fb621f1fed17fc = L.divIcon({\n  &quot;html&quot;: &quot;\\u003cdiv style=\\&quot;font-size: 12px; color:#d35400;\\&quot;\\u003e\\u003cb\\u003eCCAFS SLC-40\\u003c/b\\u003e\\u003c/div\\u003e&quot;,\n  &quot;iconSize&quot;: [20, 20],\n  &quot;iconAnchor&quot;: [0, 0],\n  &quot;className&quot;: &quot;empty&quot;,\n});\n        \n    \n                marker_e48d6ff080a0be7838070285cbe69b7e.setIcon(div_icon_8e9d7e818b3daf9a24fb621f1fed17fc);\n            \n    \n            var circle_15cd566f60b9d2c9b764cc6d0a4d5a2c = L.circle(\n                [28.57325457, -80.64689529],\n                {&quot;bubblingMouseEvents&quot;: true, &quot;color&quot;: &quot;blue&quot;, &quot;dashArray&quot;: null, &quot;dashOffset&quot;: null, &quot;fill&quot;: true, &quot;fillColor&quot;: &quot;yellow&quot;, &quot;fillOpacity&quot;: 0.6, &quot;fillRule&quot;: &quot;evenodd&quot;, &quot;lineCap&quot;: &quot;round&quot;, &quot;lineJoin&quot;: &quot;round&quot;, &quot;opacity&quot;: 1.0, &quot;radius&quot;: 1000, &quot;stroke&quot;: true, &quot;weight&quot;: 3}\n            ).addTo(map_fd2536cc9feea65a9a4b348189bdfb55);\n        \n    \n        var popup_0e58be3f8417ea21f9fe5b379724da41 = L.popup({\n  &quot;maxWidth&quot;: &quot;100%&quot;,\n});\n\n        \n            \n                var html_62cfca1fdfb4dfd5cd648f096599b4dc = $(`&lt;div id=&quot;html_62cfca1fdfb4dfd5cd648f096599b4dc&quot; style=&quot;width: 100.0%; height: 100.0%;&quot;&gt;Launch Site: KSC LC-39A&lt;/div&gt;`)[0];\n                popup_0e58be3f8417ea21f9fe5b379724da41.setContent(html_62cfca1fdfb4dfd5cd648f096599b4dc);\n            \n        \n\n        circle_15cd566f60b9d2c9b764cc6d0a4d5a2c.bindPopup(popup_0e58be3f8417ea21f9fe5b379724da41)\n        ;\n\n        \n    \n    \n            var marker_f0b78d3248da940416d7cfdb5d0b0a98 = L.marker(\n                [28.57325457, -80.64689529],\n                {\n}\n            ).addTo(map_fd2536cc9feea65a9a4b348189bdfb55);\n        \n    \n            var div_icon_4d4d128a4a56531d7629be3fec1976fc = L.divIcon({\n  &quot;html&quot;: &quot;\\u003cdiv style=\\&quot;font-size: 12px; color:#d35400;\\&quot;\\u003e\\u003cb\\u003eKSC LC-39A\\u003c/b\\u003e\\u003c/div\\u003e&quot;,\n  &quot;iconSize&quot;: [20, 20],\n  &quot;iconAnchor&quot;: [0, 0],\n  &quot;className&quot;: &quot;empty&quot;,\n});\n        \n    \n                marker_f0b78d3248da940416d7cfdb5d0b0a98.setIcon(div_icon_4d4d128a4a56531d7629be3fec1976fc);\n            \n    \n            var circle_d71f8f80442047e4374c6bb4ab481e35 = L.circle(\n                [34.63283416, -120.6107455],\n                {&quot;bubblingMouseEvents&quot;: true, &quot;color&quot;: &quot;blue&quot;, &quot;dashArray&quot;: null, &quot;dashOffset&quot;: null, &quot;fill&quot;: true, &quot;fillColor&quot;: &quot;yellow&quot;, &quot;fillOpacity&quot;: 0.6, &quot;fillRule&quot;: &quot;evenodd&quot;, &quot;lineCap&quot;: &quot;round&quot;, &quot;lineJoin&quot;: &quot;round&quot;, &quot;opacity&quot;: 1.0, &quot;radius&quot;: 1000, &quot;stroke&quot;: true, &quot;weight&quot;: 3}\n            ).addTo(map_fd2536cc9feea65a9a4b348189bdfb55);\n        \n    \n        var popup_f5923827c751fce57225fc3239d88a2c = L.popup({\n  &quot;maxWidth&quot;: &quot;100%&quot;,\n});\n\n        \n            \n                var html_f8b3b189eaa2cda7f49df10c13a6cc66 = $(`&lt;div id=&quot;html_f8b3b189eaa2cda7f49df10c13a6cc66&quot; style=&quot;width: 100.0%; height: 100.0%;&quot;&gt;Launch Site: VAFB SLC-4E&lt;/div&gt;`)[0];\n                popup_f5923827c751fce57225fc3239d88a2c.setContent(html_f8b3b189eaa2cda7f49df10c13a6cc66);\n            \n        \n\n        circle_d71f8f80442047e4374c6bb4ab481e35.bindPopup(popup_f5923827c751fce57225fc3239d88a2c)\n        ;\n\n        \n    \n    \n            var marker_936e0dd612ba29e9c73a5c2410d79363 = L.marker(\n                [34.63283416, -120.6107455],\n                {\n}\n            ).addTo(map_fd2536cc9feea65a9a4b348189bdfb55);\n        \n    \n            var div_icon_bd1515573eea92e0bb88f9b063dbe6c2 = L.divIcon({\n  &quot;html&quot;: &quot;\\u003cdiv style=\\&quot;font-size: 12px; color:#d35400;\\&quot;\\u003e\\u003cb\\u003eVAFB SLC-4E\\u003c/b\\u003e\\u003c/div\\u003e&quot;,\n  &quot;iconSize&quot;: [20, 20],\n  &quot;iconAnchor&quot;: [0, 0],\n  &quot;className&quot;: &quot;empty&quot;,\n});\n        \n    \n                marker_936e0dd612ba29e9c73a5c2410d79363.setIcon(div_icon_bd1515573eea92e0bb88f9b063dbe6c2);\n            \n&lt;/script&gt;\n&lt;/html&gt;\" style=\"position:absolute;width:100%;height:100%;left:0;top:0;border:none !important;\" allowfullscreen webkitallowfullscreen mozallowfullscreen></iframe></div></div>"
          },
          "metadata": {}
        }
      ],
      "execution_count": 23
    },
    {
      "cell_type": "markdown",
      "source": "The generated map with marked launch sites should look similar to the following:\n",
      "metadata": {}
    },
    {
      "cell_type": "markdown",
      "source": "<center>\n    <img src=\"https://cf-courses-data.s3.us.cloud-object-storage.appdomain.cloud/IBM-DS0321EN-SkillsNetwork/labs/module_3/images/launch_site_markers.png\">\n</center>\n",
      "metadata": {}
    },
    {
      "cell_type": "markdown",
      "source": "Now, you can explore the map by zoom-in/out the marked areas\n, and try to answer the following questions:\n\n*   Are all launch sites in proximity to the Equator line?\n*   Are all launch sites in very close proximity to the coast?\n\nAlso please try to explain your findings.\n",
      "metadata": {}
    },
    {
      "cell_type": "code",
      "source": "# Task 2: Mark the success/failed launches for each site on the map\n",
      "metadata": {
        "trusted": true
      },
      "outputs": [],
      "execution_count": 9
    },
    {
      "cell_type": "markdown",
      "source": "Next, let's try to enhance the map by adding the launch outcomes for each site, and see which sites have high success rates.\nRecall that data frame spacex_df has detailed launch records, and the `class` column indicates if this launch was successful or not\n",
      "metadata": {}
    },
    {
      "cell_type": "code",
      "source": "spacex_df.tail(10)",
      "metadata": {
        "trusted": true
      },
      "outputs": [
        {
          "execution_count": 24,
          "output_type": "execute_result",
          "data": {
            "text/plain": "     Launch Site        Lat       Long  class\n46    KSC LC-39A  28.573255 -80.646895      1\n47    KSC LC-39A  28.573255 -80.646895      1\n48    KSC LC-39A  28.573255 -80.646895      1\n49  CCAFS SLC-40  28.563197 -80.576820      1\n50  CCAFS SLC-40  28.563197 -80.576820      1\n51  CCAFS SLC-40  28.563197 -80.576820      0\n52  CCAFS SLC-40  28.563197 -80.576820      0\n53  CCAFS SLC-40  28.563197 -80.576820      0\n54  CCAFS SLC-40  28.563197 -80.576820      1\n55  CCAFS SLC-40  28.563197 -80.576820      0",
            "text/html": "<div>\n<style scoped>\n    .dataframe tbody tr th:only-of-type {\n        vertical-align: middle;\n    }\n\n    .dataframe tbody tr th {\n        vertical-align: top;\n    }\n\n    .dataframe thead th {\n        text-align: right;\n    }\n</style>\n<table border=\"1\" class=\"dataframe\">\n  <thead>\n    <tr style=\"text-align: right;\">\n      <th></th>\n      <th>Launch Site</th>\n      <th>Lat</th>\n      <th>Long</th>\n      <th>class</th>\n    </tr>\n  </thead>\n  <tbody>\n    <tr>\n      <th>46</th>\n      <td>KSC LC-39A</td>\n      <td>28.573255</td>\n      <td>-80.646895</td>\n      <td>1</td>\n    </tr>\n    <tr>\n      <th>47</th>\n      <td>KSC LC-39A</td>\n      <td>28.573255</td>\n      <td>-80.646895</td>\n      <td>1</td>\n    </tr>\n    <tr>\n      <th>48</th>\n      <td>KSC LC-39A</td>\n      <td>28.573255</td>\n      <td>-80.646895</td>\n      <td>1</td>\n    </tr>\n    <tr>\n      <th>49</th>\n      <td>CCAFS SLC-40</td>\n      <td>28.563197</td>\n      <td>-80.576820</td>\n      <td>1</td>\n    </tr>\n    <tr>\n      <th>50</th>\n      <td>CCAFS SLC-40</td>\n      <td>28.563197</td>\n      <td>-80.576820</td>\n      <td>1</td>\n    </tr>\n    <tr>\n      <th>51</th>\n      <td>CCAFS SLC-40</td>\n      <td>28.563197</td>\n      <td>-80.576820</td>\n      <td>0</td>\n    </tr>\n    <tr>\n      <th>52</th>\n      <td>CCAFS SLC-40</td>\n      <td>28.563197</td>\n      <td>-80.576820</td>\n      <td>0</td>\n    </tr>\n    <tr>\n      <th>53</th>\n      <td>CCAFS SLC-40</td>\n      <td>28.563197</td>\n      <td>-80.576820</td>\n      <td>0</td>\n    </tr>\n    <tr>\n      <th>54</th>\n      <td>CCAFS SLC-40</td>\n      <td>28.563197</td>\n      <td>-80.576820</td>\n      <td>1</td>\n    </tr>\n    <tr>\n      <th>55</th>\n      <td>CCAFS SLC-40</td>\n      <td>28.563197</td>\n      <td>-80.576820</td>\n      <td>0</td>\n    </tr>\n  </tbody>\n</table>\n</div>"
          },
          "metadata": {}
        }
      ],
      "execution_count": 24
    },
    {
      "cell_type": "markdown",
      "source": "Next, let's create markers for all launch records.\nIf a launch was successful `(class=1)`, then we use a green marker and if a launch was failed, we use a red marker `(class=0)`\n",
      "metadata": {}
    },
    {
      "cell_type": "markdown",
      "source": "Note that a launch only happens in one of the four launch sites, which means many launch records will have the exact same coordinate. Marker clusters can be a good way to simplify a map containing many markers having the same coordinate.\n",
      "metadata": {}
    },
    {
      "cell_type": "markdown",
      "source": "Let's first create a `MarkerCluster` object\n",
      "metadata": {}
    },
    {
      "cell_type": "code",
      "source": "marker_cluster = MarkerCluster()\n",
      "metadata": {
        "trusted": true
      },
      "outputs": [],
      "execution_count": 25
    },
    {
      "cell_type": "code",
      "source": "print(spacex_df.columns)\n",
      "metadata": {
        "trusted": true
      },
      "outputs": [
        {
          "name": "stdout",
          "text": "Index(['Launch Site', 'Lat', 'Long', 'class'], dtype='object')\n",
          "output_type": "stream"
        }
      ],
      "execution_count": 27
    },
    {
      "cell_type": "markdown",
      "source": "*TODO:* Create a new column in `spacex_df` dataframe called `marker_color` to store the marker colors based on the `class` value\n",
      "metadata": {}
    },
    {
      "cell_type": "code",
      "source": "# Green for success (class=1), Red for failure (class=0)\nspacex_df['marker_color'] = spacex_df['class'].apply(lambda x: 'green' if x == 1 else 'red')\n\n# Optional: check the first few rows\nspacex_df[['Launch Site', 'class', 'marker_color']].head()\n",
      "metadata": {
        "trusted": true
      },
      "outputs": [
        {
          "execution_count": 28,
          "output_type": "execute_result",
          "data": {
            "text/plain": "   Launch Site  class marker_color\n0  CCAFS LC-40      0          red\n1  CCAFS LC-40      0          red\n2  CCAFS LC-40      0          red\n3  CCAFS LC-40      0          red\n4  CCAFS LC-40      0          red",
            "text/html": "<div>\n<style scoped>\n    .dataframe tbody tr th:only-of-type {\n        vertical-align: middle;\n    }\n\n    .dataframe tbody tr th {\n        vertical-align: top;\n    }\n\n    .dataframe thead th {\n        text-align: right;\n    }\n</style>\n<table border=\"1\" class=\"dataframe\">\n  <thead>\n    <tr style=\"text-align: right;\">\n      <th></th>\n      <th>Launch Site</th>\n      <th>class</th>\n      <th>marker_color</th>\n    </tr>\n  </thead>\n  <tbody>\n    <tr>\n      <th>0</th>\n      <td>CCAFS LC-40</td>\n      <td>0</td>\n      <td>red</td>\n    </tr>\n    <tr>\n      <th>1</th>\n      <td>CCAFS LC-40</td>\n      <td>0</td>\n      <td>red</td>\n    </tr>\n    <tr>\n      <th>2</th>\n      <td>CCAFS LC-40</td>\n      <td>0</td>\n      <td>red</td>\n    </tr>\n    <tr>\n      <th>3</th>\n      <td>CCAFS LC-40</td>\n      <td>0</td>\n      <td>red</td>\n    </tr>\n    <tr>\n      <th>4</th>\n      <td>CCAFS LC-40</td>\n      <td>0</td>\n      <td>red</td>\n    </tr>\n  </tbody>\n</table>\n</div>"
          },
          "metadata": {}
        }
      ],
      "execution_count": 28
    },
    {
      "cell_type": "markdown",
      "source": "*TODO:* For each launch result in `spacex_df` data frame, add a `folium.Marker` to `marker_cluster`\n",
      "metadata": {}
    },
    {
      "cell_type": "code",
      "source": "# Add marker_cluster to current site_map\nsite_map.add_child(marker_cluster)\n\n# for each row in spacex_df data frame\n# create a Marker object with its coordinate\n# and customize the Marker's icon property to indicate if this launch was successed or failed, \n# e.g., icon=folium.Icon(color='white', icon_color=row['marker_color']\nfor index, record in spacex_df.iterrows():\n    # TODO: Create and add a Marker cluster to the site map\n    # marker = folium.Marker(...)\n    marker_cluster.add_child(marker)\n\nsite_map",
      "metadata": {
        "trusted": true
      },
      "outputs": [
        {
          "execution_count": 29,
          "output_type": "execute_result",
          "data": {
            "text/plain": "<folium.folium.Map at 0x6f7fd10>",
            "text/html": "<div style=\"width:100%;\"><div style=\"position:relative;width:100%;height:0;padding-bottom:60%;\"><span style=\"color:#565656\">Make this Notebook Trusted to load map: File -> Trust Notebook</span><iframe srcdoc=\"&lt;!DOCTYPE html&gt;\n&lt;html&gt;\n&lt;head&gt;\n    \n    &lt;meta http-equiv=&quot;content-type&quot; content=&quot;text/html; charset=UTF-8&quot; /&gt;\n    &lt;script src=&quot;https://cdn.jsdelivr.net/npm/leaflet@1.9.3/dist/leaflet.js&quot;&gt;&lt;/script&gt;\n    &lt;script src=&quot;https://code.jquery.com/jquery-3.7.1.min.js&quot;&gt;&lt;/script&gt;\n    &lt;script src=&quot;https://cdn.jsdelivr.net/npm/bootstrap@5.2.2/dist/js/bootstrap.bundle.min.js&quot;&gt;&lt;/script&gt;\n    &lt;script src=&quot;https://cdnjs.cloudflare.com/ajax/libs/Leaflet.awesome-markers/2.0.2/leaflet.awesome-markers.js&quot;&gt;&lt;/script&gt;\n    &lt;link rel=&quot;stylesheet&quot; href=&quot;https://cdn.jsdelivr.net/npm/leaflet@1.9.3/dist/leaflet.css&quot;/&gt;\n    &lt;link rel=&quot;stylesheet&quot; href=&quot;https://cdn.jsdelivr.net/npm/bootstrap@5.2.2/dist/css/bootstrap.min.css&quot;/&gt;\n    &lt;link rel=&quot;stylesheet&quot; href=&quot;https://netdna.bootstrapcdn.com/bootstrap/3.0.0/css/bootstrap-glyphicons.css&quot;/&gt;\n    &lt;link rel=&quot;stylesheet&quot; href=&quot;https://cdn.jsdelivr.net/npm/@fortawesome/fontawesome-free@6.2.0/css/all.min.css&quot;/&gt;\n    &lt;link rel=&quot;stylesheet&quot; href=&quot;https://cdnjs.cloudflare.com/ajax/libs/Leaflet.awesome-markers/2.0.2/leaflet.awesome-markers.css&quot;/&gt;\n    &lt;link rel=&quot;stylesheet&quot; href=&quot;https://cdn.jsdelivr.net/gh/python-visualization/folium/folium/templates/leaflet.awesome.rotate.min.css&quot;/&gt;\n    \n            &lt;meta name=&quot;viewport&quot; content=&quot;width=device-width,\n                initial-scale=1.0, maximum-scale=1.0, user-scalable=no&quot; /&gt;\n            &lt;style&gt;\n                #map_fd2536cc9feea65a9a4b348189bdfb55 {\n                    position: relative;\n                    width: 100.0%;\n                    height: 100.0%;\n                    left: 0.0%;\n                    top: 0.0%;\n                }\n                .leaflet-container { font-size: 1rem; }\n            &lt;/style&gt;\n\n            &lt;style&gt;html, body {\n                width: 100%;\n                height: 100%;\n                margin: 0;\n                padding: 0;\n            }\n            &lt;/style&gt;\n\n            &lt;style&gt;#map {\n                position:absolute;\n                top:0;\n                bottom:0;\n                right:0;\n                left:0;\n                }\n            &lt;/style&gt;\n\n            &lt;script&gt;\n                L_NO_TOUCH = false;\n                L_DISABLE_3D = false;\n            &lt;/script&gt;\n\n        \n    &lt;script src=&quot;https://cdnjs.cloudflare.com/ajax/libs/leaflet.markercluster/1.1.0/leaflet.markercluster.js&quot;&gt;&lt;/script&gt;\n    &lt;link rel=&quot;stylesheet&quot; href=&quot;https://cdnjs.cloudflare.com/ajax/libs/leaflet.markercluster/1.1.0/MarkerCluster.css&quot;/&gt;\n    &lt;link rel=&quot;stylesheet&quot; href=&quot;https://cdnjs.cloudflare.com/ajax/libs/leaflet.markercluster/1.1.0/MarkerCluster.Default.css&quot;/&gt;\n&lt;/head&gt;\n&lt;body&gt;\n    \n    \n            &lt;div class=&quot;folium-map&quot; id=&quot;map_fd2536cc9feea65a9a4b348189bdfb55&quot; &gt;&lt;/div&gt;\n        \n&lt;/body&gt;\n&lt;script&gt;\n    \n    \n            var map_fd2536cc9feea65a9a4b348189bdfb55 = L.map(\n                &quot;map_fd2536cc9feea65a9a4b348189bdfb55&quot;,\n                {\n                    center: [29.5596845, -95.083097],\n                    crs: L.CRS.EPSG3857,\n                    ...{\n  &quot;zoom&quot;: 5,\n  &quot;zoomControl&quot;: true,\n  &quot;preferCanvas&quot;: false,\n}\n\n                }\n            );\n\n            \n\n        \n    \n            var tile_layer_1d762bd1cedce86bdfeca8a88474dcff = L.tileLayer(\n                &quot;https://tile.openstreetmap.org/{z}/{x}/{y}.png&quot;,\n                {\n  &quot;minZoom&quot;: 0,\n  &quot;maxZoom&quot;: 19,\n  &quot;maxNativeZoom&quot;: 19,\n  &quot;noWrap&quot;: false,\n  &quot;attribution&quot;: &quot;\\u0026copy; \\u003ca href=\\&quot;https://www.openstreetmap.org/copyright\\&quot;\\u003eOpenStreetMap\\u003c/a\\u003e contributors&quot;,\n  &quot;subdomains&quot;: &quot;abc&quot;,\n  &quot;detectRetina&quot;: false,\n  &quot;tms&quot;: false,\n  &quot;opacity&quot;: 1,\n}\n\n            );\n        \n    \n            tile_layer_1d762bd1cedce86bdfeca8a88474dcff.addTo(map_fd2536cc9feea65a9a4b348189bdfb55);\n        \n    \n            var circle_9866ca7ef8637ecfb5e685623b82feba = L.circle(\n                [28.56230197, -80.57735648],\n                {&quot;bubblingMouseEvents&quot;: true, &quot;color&quot;: &quot;blue&quot;, &quot;dashArray&quot;: null, &quot;dashOffset&quot;: null, &quot;fill&quot;: true, &quot;fillColor&quot;: &quot;yellow&quot;, &quot;fillOpacity&quot;: 0.6, &quot;fillRule&quot;: &quot;evenodd&quot;, &quot;lineCap&quot;: &quot;round&quot;, &quot;lineJoin&quot;: &quot;round&quot;, &quot;opacity&quot;: 1.0, &quot;radius&quot;: 1000, &quot;stroke&quot;: true, &quot;weight&quot;: 3}\n            ).addTo(map_fd2536cc9feea65a9a4b348189bdfb55);\n        \n    \n        var popup_38628552f36e97197b4769dc7a3737e7 = L.popup({\n  &quot;maxWidth&quot;: &quot;100%&quot;,\n});\n\n        \n            \n                var html_997a5657b35bc4a1710011f8ff8dc83d = $(`&lt;div id=&quot;html_997a5657b35bc4a1710011f8ff8dc83d&quot; style=&quot;width: 100.0%; height: 100.0%;&quot;&gt;Launch Site: CCAFS LC-40&lt;/div&gt;`)[0];\n                popup_38628552f36e97197b4769dc7a3737e7.setContent(html_997a5657b35bc4a1710011f8ff8dc83d);\n            \n        \n\n        circle_9866ca7ef8637ecfb5e685623b82feba.bindPopup(popup_38628552f36e97197b4769dc7a3737e7)\n        ;\n\n        \n    \n    \n            var marker_3f5541a343db1ec5cb9cbe8f38e80348 = L.marker(\n                [28.56230197, -80.57735648],\n                {\n}\n            ).addTo(map_fd2536cc9feea65a9a4b348189bdfb55);\n        \n    \n            var div_icon_44433c294f28c3a11258d4d56176998e = L.divIcon({\n  &quot;html&quot;: &quot;\\u003cdiv style=\\&quot;font-size: 12px; color:#d35400;\\&quot;\\u003e\\u003cb\\u003eCCAFS LC-40\\u003c/b\\u003e\\u003c/div\\u003e&quot;,\n  &quot;iconSize&quot;: [20, 20],\n  &quot;iconAnchor&quot;: [0, 0],\n  &quot;className&quot;: &quot;empty&quot;,\n});\n        \n    \n                marker_3f5541a343db1ec5cb9cbe8f38e80348.setIcon(div_icon_44433c294f28c3a11258d4d56176998e);\n            \n    \n            var circle_457a0703234d67de6020fc42edd1da8e = L.circle(\n                [28.56319718, -80.57682003],\n                {&quot;bubblingMouseEvents&quot;: true, &quot;color&quot;: &quot;blue&quot;, &quot;dashArray&quot;: null, &quot;dashOffset&quot;: null, &quot;fill&quot;: true, &quot;fillColor&quot;: &quot;yellow&quot;, &quot;fillOpacity&quot;: 0.6, &quot;fillRule&quot;: &quot;evenodd&quot;, &quot;lineCap&quot;: &quot;round&quot;, &quot;lineJoin&quot;: &quot;round&quot;, &quot;opacity&quot;: 1.0, &quot;radius&quot;: 1000, &quot;stroke&quot;: true, &quot;weight&quot;: 3}\n            ).addTo(map_fd2536cc9feea65a9a4b348189bdfb55);\n        \n    \n        var popup_9f934480d5ad2c8cc10e5e40b30460a4 = L.popup({\n  &quot;maxWidth&quot;: &quot;100%&quot;,\n});\n\n        \n            \n                var html_91037a4d4564a97402d236a262ded740 = $(`&lt;div id=&quot;html_91037a4d4564a97402d236a262ded740&quot; style=&quot;width: 100.0%; height: 100.0%;&quot;&gt;Launch Site: CCAFS SLC-40&lt;/div&gt;`)[0];\n                popup_9f934480d5ad2c8cc10e5e40b30460a4.setContent(html_91037a4d4564a97402d236a262ded740);\n            \n        \n\n        circle_457a0703234d67de6020fc42edd1da8e.bindPopup(popup_9f934480d5ad2c8cc10e5e40b30460a4)\n        ;\n\n        \n    \n    \n            var marker_e48d6ff080a0be7838070285cbe69b7e = L.marker(\n                [28.56319718, -80.57682003],\n                {\n}\n            ).addTo(map_fd2536cc9feea65a9a4b348189bdfb55);\n        \n    \n            var div_icon_8e9d7e818b3daf9a24fb621f1fed17fc = L.divIcon({\n  &quot;html&quot;: &quot;\\u003cdiv style=\\&quot;font-size: 12px; color:#d35400;\\&quot;\\u003e\\u003cb\\u003eCCAFS SLC-40\\u003c/b\\u003e\\u003c/div\\u003e&quot;,\n  &quot;iconSize&quot;: [20, 20],\n  &quot;iconAnchor&quot;: [0, 0],\n  &quot;className&quot;: &quot;empty&quot;,\n});\n        \n    \n                marker_e48d6ff080a0be7838070285cbe69b7e.setIcon(div_icon_8e9d7e818b3daf9a24fb621f1fed17fc);\n            \n    \n            var circle_15cd566f60b9d2c9b764cc6d0a4d5a2c = L.circle(\n                [28.57325457, -80.64689529],\n                {&quot;bubblingMouseEvents&quot;: true, &quot;color&quot;: &quot;blue&quot;, &quot;dashArray&quot;: null, &quot;dashOffset&quot;: null, &quot;fill&quot;: true, &quot;fillColor&quot;: &quot;yellow&quot;, &quot;fillOpacity&quot;: 0.6, &quot;fillRule&quot;: &quot;evenodd&quot;, &quot;lineCap&quot;: &quot;round&quot;, &quot;lineJoin&quot;: &quot;round&quot;, &quot;opacity&quot;: 1.0, &quot;radius&quot;: 1000, &quot;stroke&quot;: true, &quot;weight&quot;: 3}\n            ).addTo(map_fd2536cc9feea65a9a4b348189bdfb55);\n        \n    \n        var popup_0e58be3f8417ea21f9fe5b379724da41 = L.popup({\n  &quot;maxWidth&quot;: &quot;100%&quot;,\n});\n\n        \n            \n                var html_62cfca1fdfb4dfd5cd648f096599b4dc = $(`&lt;div id=&quot;html_62cfca1fdfb4dfd5cd648f096599b4dc&quot; style=&quot;width: 100.0%; height: 100.0%;&quot;&gt;Launch Site: KSC LC-39A&lt;/div&gt;`)[0];\n                popup_0e58be3f8417ea21f9fe5b379724da41.setContent(html_62cfca1fdfb4dfd5cd648f096599b4dc);\n            \n        \n\n        circle_15cd566f60b9d2c9b764cc6d0a4d5a2c.bindPopup(popup_0e58be3f8417ea21f9fe5b379724da41)\n        ;\n\n        \n    \n    \n            var marker_f0b78d3248da940416d7cfdb5d0b0a98 = L.marker(\n                [28.57325457, -80.64689529],\n                {\n}\n            ).addTo(map_fd2536cc9feea65a9a4b348189bdfb55);\n        \n    \n            var div_icon_4d4d128a4a56531d7629be3fec1976fc = L.divIcon({\n  &quot;html&quot;: &quot;\\u003cdiv style=\\&quot;font-size: 12px; color:#d35400;\\&quot;\\u003e\\u003cb\\u003eKSC LC-39A\\u003c/b\\u003e\\u003c/div\\u003e&quot;,\n  &quot;iconSize&quot;: [20, 20],\n  &quot;iconAnchor&quot;: [0, 0],\n  &quot;className&quot;: &quot;empty&quot;,\n});\n        \n    \n                marker_f0b78d3248da940416d7cfdb5d0b0a98.setIcon(div_icon_4d4d128a4a56531d7629be3fec1976fc);\n            \n    \n            var circle_d71f8f80442047e4374c6bb4ab481e35 = L.circle(\n                [34.63283416, -120.6107455],\n                {&quot;bubblingMouseEvents&quot;: true, &quot;color&quot;: &quot;blue&quot;, &quot;dashArray&quot;: null, &quot;dashOffset&quot;: null, &quot;fill&quot;: true, &quot;fillColor&quot;: &quot;yellow&quot;, &quot;fillOpacity&quot;: 0.6, &quot;fillRule&quot;: &quot;evenodd&quot;, &quot;lineCap&quot;: &quot;round&quot;, &quot;lineJoin&quot;: &quot;round&quot;, &quot;opacity&quot;: 1.0, &quot;radius&quot;: 1000, &quot;stroke&quot;: true, &quot;weight&quot;: 3}\n            ).addTo(map_fd2536cc9feea65a9a4b348189bdfb55);\n        \n    \n        var popup_f5923827c751fce57225fc3239d88a2c = L.popup({\n  &quot;maxWidth&quot;: &quot;100%&quot;,\n});\n\n        \n            \n                var html_f8b3b189eaa2cda7f49df10c13a6cc66 = $(`&lt;div id=&quot;html_f8b3b189eaa2cda7f49df10c13a6cc66&quot; style=&quot;width: 100.0%; height: 100.0%;&quot;&gt;Launch Site: VAFB SLC-4E&lt;/div&gt;`)[0];\n                popup_f5923827c751fce57225fc3239d88a2c.setContent(html_f8b3b189eaa2cda7f49df10c13a6cc66);\n            \n        \n\n        circle_d71f8f80442047e4374c6bb4ab481e35.bindPopup(popup_f5923827c751fce57225fc3239d88a2c)\n        ;\n\n        \n    \n    \n            var marker_936e0dd612ba29e9c73a5c2410d79363 = L.marker(\n                [34.63283416, -120.6107455],\n                {\n}\n            ).addTo(map_fd2536cc9feea65a9a4b348189bdfb55);\n        \n    \n            var div_icon_bd1515573eea92e0bb88f9b063dbe6c2 = L.divIcon({\n  &quot;html&quot;: &quot;\\u003cdiv style=\\&quot;font-size: 12px; color:#d35400;\\&quot;\\u003e\\u003cb\\u003eVAFB SLC-4E\\u003c/b\\u003e\\u003c/div\\u003e&quot;,\n  &quot;iconSize&quot;: [20, 20],\n  &quot;iconAnchor&quot;: [0, 0],\n  &quot;className&quot;: &quot;empty&quot;,\n});\n        \n    \n                marker_936e0dd612ba29e9c73a5c2410d79363.setIcon(div_icon_bd1515573eea92e0bb88f9b063dbe6c2);\n            \n    \n            tile_layer_1d762bd1cedce86bdfeca8a88474dcff.addTo(map_fd2536cc9feea65a9a4b348189bdfb55);\n        \n    \n                marker_3f5541a343db1ec5cb9cbe8f38e80348.setIcon(div_icon_44433c294f28c3a11258d4d56176998e);\n            \n    \n                marker_e48d6ff080a0be7838070285cbe69b7e.setIcon(div_icon_8e9d7e818b3daf9a24fb621f1fed17fc);\n            \n    \n                marker_f0b78d3248da940416d7cfdb5d0b0a98.setIcon(div_icon_4d4d128a4a56531d7629be3fec1976fc);\n            \n    \n                marker_936e0dd612ba29e9c73a5c2410d79363.setIcon(div_icon_bd1515573eea92e0bb88f9b063dbe6c2);\n            \n    \n            var marker_cluster_181a9fe5381fe15e53e5cd3a5e066dac = L.markerClusterGroup(\n                {\n}\n            );\n        \n    \n            var marker_78f570a7beb6a86e04f5bd4a4af17aa3 = L.marker(\n                [29.559684888503615, -95.0830971930759],\n                {\n}\n            ).addTo(marker_cluster_181a9fe5381fe15e53e5cd3a5e066dac);\n        \n    \n            var div_icon_4d034184288fb8de6acb7ead5ba5c344 = L.divIcon({\n  &quot;html&quot;: &quot;\\u003cdiv style=\\&quot;font-size: 12; color:#d35400;\\&quot;\\u003e\\u003cb\\u003eNASA JSC\\u003c/b\\u003e\\u003c/div\\u003e&quot;,\n  &quot;iconSize&quot;: [20, 20],\n  &quot;iconAnchor&quot;: [0, 0],\n  &quot;className&quot;: &quot;empty&quot;,\n});\n        \n    \n                marker_78f570a7beb6a86e04f5bd4a4af17aa3.setIcon(div_icon_4d034184288fb8de6acb7ead5ba5c344);\n            \n    \n                marker_78f570a7beb6a86e04f5bd4a4af17aa3.setIcon(div_icon_4d034184288fb8de6acb7ead5ba5c344);\n            \n    \n            marker_cluster_181a9fe5381fe15e53e5cd3a5e066dac.addTo(map_fd2536cc9feea65a9a4b348189bdfb55);\n        \n&lt;/script&gt;\n&lt;/html&gt;\" style=\"position:absolute;width:100%;height:100%;left:0;top:0;border:none !important;\" allowfullscreen webkitallowfullscreen mozallowfullscreen></iframe></div></div>"
          },
          "metadata": {}
        }
      ],
      "execution_count": 29
    },
    {
      "cell_type": "markdown",
      "source": "Your updated map may look like the following screenshots:\n",
      "metadata": {}
    },
    {
      "cell_type": "markdown",
      "source": "<center>\n    <img src=\"https://cf-courses-data.s3.us.cloud-object-storage.appdomain.cloud/IBM-DS0321EN-SkillsNetwork/labs/module_3/images/launch_site_marker_cluster.png\">\n</center>\n",
      "metadata": {}
    },
    {
      "cell_type": "markdown",
      "source": "<center>\n    <img src=\"https://cf-courses-data.s3.us.cloud-object-storage.appdomain.cloud/IBM-DS0321EN-SkillsNetwork/labs/module_3/images/launch_site_marker_cluster_zoomed.png\">\n</center>\n",
      "metadata": {}
    },
    {
      "cell_type": "markdown",
      "source": "From the color-labeled markers in marker clusters, you should be able to easily identify which launch sites have relatively high success rates.\n",
      "metadata": {}
    },
    {
      "cell_type": "code",
      "source": "# TASK 3: Calculate the distances between a launch site to its proximities\n",
      "metadata": {},
      "outputs": [],
      "execution_count": null
    },
    {
      "cell_type": "markdown",
      "source": "Next, we need to explore and analyze the proximities of launch sites.\n",
      "metadata": {}
    },
    {
      "cell_type": "markdown",
      "source": "Let's first add a `MousePosition` on the map to get coordinate for a mouse over a point on the map. As such, while you are exploring the map, you can easily find the coordinates of any points of interests (such as railway)\n",
      "metadata": {}
    },
    {
      "cell_type": "code",
      "source": "# Add Mouse Position to get the coordinate (Lat, Long) for a mouse over on the map\nformatter = \"function(num) {return L.Util.formatNum(num, 5);};\"\nmouse_position = MousePosition(\n    position='topright',\n    separator=' Long: ',\n    empty_string='NaN',\n    lng_first=False,\n    num_digits=20,\n    prefix='Lat:',\n    lat_formatter=formatter,\n    lng_formatter=formatter,\n)\n\nsite_map.add_child(mouse_position)\nsite_map",
      "metadata": {},
      "outputs": [],
      "execution_count": null
    },
    {
      "cell_type": "markdown",
      "source": "Now zoom in to a launch site and explore its proximity to see if you can easily find any railway, highway, coastline, etc. Move your mouse to these points and mark down their coordinates (shown on the top-left) in order to the distance to the launch site.\n",
      "metadata": {}
    },
    {
      "cell_type": "markdown",
      "source": "Now zoom in to a launch site and explore its proximity to see if you can easily find any railway, highway, coastline, etc. Move your mouse to these points and mark down their coordinates (shown on the top-left) in order to the distance to the launch site.\n",
      "metadata": {}
    },
    {
      "cell_type": "code",
      "source": "from math import sin, cos, sqrt, atan2, radians\n\ndef calculate_distance(lat1, lon1, lat2, lon2):\n    # approximate radius of earth in km\n    R = 6373.0\n\n    lat1 = radians(lat1)\n    lon1 = radians(lon1)\n    lat2 = radians(lat2)\n    lon2 = radians(lon2)\n\n    dlon = lon2 - lon1\n    dlat = lat2 - lat1\n\n    a = sin(dlat / 2)**2 + cos(lat1) * cos(lat2) * sin(dlon / 2)**2\n    c = 2 * atan2(sqrt(a), sqrt(1 - a))\n\n    distance = R * c\n    return distance",
      "metadata": {
        "trusted": true
      },
      "outputs": [],
      "execution_count": 30
    },
    {
      "cell_type": "markdown",
      "source": "*TODO:* Mark down a point on the closest coastline using MousePosition and calculate the distance between the coastline point and the launch site.\n",
      "metadata": {}
    },
    {
      "cell_type": "code",
      "source": "# Launch site coordinates (example: CCAFS LC-40)\nlaunch_site_lat = 28.562302\nlaunch_site_lon = -80.577356\n\n# Closest coastline coordinates (example you provided)\ncoastline_lat = 28.56367\ncoastline_lon = -80.57163\n\n# Calculate distance\ndistance_coastline = calculate_distance(launch_site_lat, launch_site_lon, coastline_lat, coastline_lon)\nprint(f\"Distance to coastline: {distance_coastline:.2f} km\")\n",
      "metadata": {
        "trusted": true
      },
      "outputs": [
        {
          "name": "stdout",
          "text": "Distance to coastline: 0.58 km\n",
          "output_type": "stream"
        }
      ],
      "execution_count": 31
    },
    {
      "cell_type": "code",
      "source": "from folium.features import DivIcon\n\n# Coordinate for the coastline\ncoastline_coordinate = [coastline_lat, coastline_lon]\n\n# Create marker showing the distance\ndistance_marker = folium.Marker(\n    location=coastline_coordinate,\n    icon=DivIcon(\n        icon_size=(20,20),\n        icon_anchor=(0,0),\n        html='<div style=\"font-size: 12px; color:#d35400;\"><b>{:0.2f} KM</b></div>'.format(distance_coastline)\n    )\n)\n\n# Add to your map\nsite_map.add_child(distance_marker)\n",
      "metadata": {
        "trusted": true
      },
      "outputs": [
        {
          "execution_count": 32,
          "output_type": "execute_result",
          "data": {
            "text/plain": "<folium.folium.Map at 0x6f7fd10>",
            "text/html": "<div style=\"width:100%;\"><div style=\"position:relative;width:100%;height:0;padding-bottom:60%;\"><span style=\"color:#565656\">Make this Notebook Trusted to load map: File -> Trust Notebook</span><iframe srcdoc=\"&lt;!DOCTYPE html&gt;\n&lt;html&gt;\n&lt;head&gt;\n    \n    &lt;meta http-equiv=&quot;content-type&quot; content=&quot;text/html; charset=UTF-8&quot; /&gt;\n    &lt;script src=&quot;https://cdn.jsdelivr.net/npm/leaflet@1.9.3/dist/leaflet.js&quot;&gt;&lt;/script&gt;\n    &lt;script src=&quot;https://code.jquery.com/jquery-3.7.1.min.js&quot;&gt;&lt;/script&gt;\n    &lt;script src=&quot;https://cdn.jsdelivr.net/npm/bootstrap@5.2.2/dist/js/bootstrap.bundle.min.js&quot;&gt;&lt;/script&gt;\n    &lt;script src=&quot;https://cdnjs.cloudflare.com/ajax/libs/Leaflet.awesome-markers/2.0.2/leaflet.awesome-markers.js&quot;&gt;&lt;/script&gt;\n    &lt;link rel=&quot;stylesheet&quot; href=&quot;https://cdn.jsdelivr.net/npm/leaflet@1.9.3/dist/leaflet.css&quot;/&gt;\n    &lt;link rel=&quot;stylesheet&quot; href=&quot;https://cdn.jsdelivr.net/npm/bootstrap@5.2.2/dist/css/bootstrap.min.css&quot;/&gt;\n    &lt;link rel=&quot;stylesheet&quot; href=&quot;https://netdna.bootstrapcdn.com/bootstrap/3.0.0/css/bootstrap-glyphicons.css&quot;/&gt;\n    &lt;link rel=&quot;stylesheet&quot; href=&quot;https://cdn.jsdelivr.net/npm/@fortawesome/fontawesome-free@6.2.0/css/all.min.css&quot;/&gt;\n    &lt;link rel=&quot;stylesheet&quot; href=&quot;https://cdnjs.cloudflare.com/ajax/libs/Leaflet.awesome-markers/2.0.2/leaflet.awesome-markers.css&quot;/&gt;\n    &lt;link rel=&quot;stylesheet&quot; href=&quot;https://cdn.jsdelivr.net/gh/python-visualization/folium/folium/templates/leaflet.awesome.rotate.min.css&quot;/&gt;\n    \n            &lt;meta name=&quot;viewport&quot; content=&quot;width=device-width,\n                initial-scale=1.0, maximum-scale=1.0, user-scalable=no&quot; /&gt;\n            &lt;style&gt;\n                #map_fd2536cc9feea65a9a4b348189bdfb55 {\n                    position: relative;\n                    width: 100.0%;\n                    height: 100.0%;\n                    left: 0.0%;\n                    top: 0.0%;\n                }\n                .leaflet-container { font-size: 1rem; }\n            &lt;/style&gt;\n\n            &lt;style&gt;html, body {\n                width: 100%;\n                height: 100%;\n                margin: 0;\n                padding: 0;\n            }\n            &lt;/style&gt;\n\n            &lt;style&gt;#map {\n                position:absolute;\n                top:0;\n                bottom:0;\n                right:0;\n                left:0;\n                }\n            &lt;/style&gt;\n\n            &lt;script&gt;\n                L_NO_TOUCH = false;\n                L_DISABLE_3D = false;\n            &lt;/script&gt;\n\n        \n    &lt;script src=&quot;https://cdnjs.cloudflare.com/ajax/libs/leaflet.markercluster/1.1.0/leaflet.markercluster.js&quot;&gt;&lt;/script&gt;\n    &lt;link rel=&quot;stylesheet&quot; href=&quot;https://cdnjs.cloudflare.com/ajax/libs/leaflet.markercluster/1.1.0/MarkerCluster.css&quot;/&gt;\n    &lt;link rel=&quot;stylesheet&quot; href=&quot;https://cdnjs.cloudflare.com/ajax/libs/leaflet.markercluster/1.1.0/MarkerCluster.Default.css&quot;/&gt;\n&lt;/head&gt;\n&lt;body&gt;\n    \n    \n            &lt;div class=&quot;folium-map&quot; id=&quot;map_fd2536cc9feea65a9a4b348189bdfb55&quot; &gt;&lt;/div&gt;\n        \n&lt;/body&gt;\n&lt;script&gt;\n    \n    \n            var map_fd2536cc9feea65a9a4b348189bdfb55 = L.map(\n                &quot;map_fd2536cc9feea65a9a4b348189bdfb55&quot;,\n                {\n                    center: [29.5596845, -95.083097],\n                    crs: L.CRS.EPSG3857,\n                    ...{\n  &quot;zoom&quot;: 5,\n  &quot;zoomControl&quot;: true,\n  &quot;preferCanvas&quot;: false,\n}\n\n                }\n            );\n\n            \n\n        \n    \n            var tile_layer_1d762bd1cedce86bdfeca8a88474dcff = L.tileLayer(\n                &quot;https://tile.openstreetmap.org/{z}/{x}/{y}.png&quot;,\n                {\n  &quot;minZoom&quot;: 0,\n  &quot;maxZoom&quot;: 19,\n  &quot;maxNativeZoom&quot;: 19,\n  &quot;noWrap&quot;: false,\n  &quot;attribution&quot;: &quot;\\u0026copy; \\u003ca href=\\&quot;https://www.openstreetmap.org/copyright\\&quot;\\u003eOpenStreetMap\\u003c/a\\u003e contributors&quot;,\n  &quot;subdomains&quot;: &quot;abc&quot;,\n  &quot;detectRetina&quot;: false,\n  &quot;tms&quot;: false,\n  &quot;opacity&quot;: 1,\n}\n\n            );\n        \n    \n            tile_layer_1d762bd1cedce86bdfeca8a88474dcff.addTo(map_fd2536cc9feea65a9a4b348189bdfb55);\n        \n    \n            var circle_9866ca7ef8637ecfb5e685623b82feba = L.circle(\n                [28.56230197, -80.57735648],\n                {&quot;bubblingMouseEvents&quot;: true, &quot;color&quot;: &quot;blue&quot;, &quot;dashArray&quot;: null, &quot;dashOffset&quot;: null, &quot;fill&quot;: true, &quot;fillColor&quot;: &quot;yellow&quot;, &quot;fillOpacity&quot;: 0.6, &quot;fillRule&quot;: &quot;evenodd&quot;, &quot;lineCap&quot;: &quot;round&quot;, &quot;lineJoin&quot;: &quot;round&quot;, &quot;opacity&quot;: 1.0, &quot;radius&quot;: 1000, &quot;stroke&quot;: true, &quot;weight&quot;: 3}\n            ).addTo(map_fd2536cc9feea65a9a4b348189bdfb55);\n        \n    \n        var popup_38628552f36e97197b4769dc7a3737e7 = L.popup({\n  &quot;maxWidth&quot;: &quot;100%&quot;,\n});\n\n        \n            \n                var html_997a5657b35bc4a1710011f8ff8dc83d = $(`&lt;div id=&quot;html_997a5657b35bc4a1710011f8ff8dc83d&quot; style=&quot;width: 100.0%; height: 100.0%;&quot;&gt;Launch Site: CCAFS LC-40&lt;/div&gt;`)[0];\n                popup_38628552f36e97197b4769dc7a3737e7.setContent(html_997a5657b35bc4a1710011f8ff8dc83d);\n            \n        \n\n        circle_9866ca7ef8637ecfb5e685623b82feba.bindPopup(popup_38628552f36e97197b4769dc7a3737e7)\n        ;\n\n        \n    \n    \n            var marker_3f5541a343db1ec5cb9cbe8f38e80348 = L.marker(\n                [28.56230197, -80.57735648],\n                {\n}\n            ).addTo(map_fd2536cc9feea65a9a4b348189bdfb55);\n        \n    \n            var div_icon_44433c294f28c3a11258d4d56176998e = L.divIcon({\n  &quot;html&quot;: &quot;\\u003cdiv style=\\&quot;font-size: 12px; color:#d35400;\\&quot;\\u003e\\u003cb\\u003eCCAFS LC-40\\u003c/b\\u003e\\u003c/div\\u003e&quot;,\n  &quot;iconSize&quot;: [20, 20],\n  &quot;iconAnchor&quot;: [0, 0],\n  &quot;className&quot;: &quot;empty&quot;,\n});\n        \n    \n                marker_3f5541a343db1ec5cb9cbe8f38e80348.setIcon(div_icon_44433c294f28c3a11258d4d56176998e);\n            \n    \n            var circle_457a0703234d67de6020fc42edd1da8e = L.circle(\n                [28.56319718, -80.57682003],\n                {&quot;bubblingMouseEvents&quot;: true, &quot;color&quot;: &quot;blue&quot;, &quot;dashArray&quot;: null, &quot;dashOffset&quot;: null, &quot;fill&quot;: true, &quot;fillColor&quot;: &quot;yellow&quot;, &quot;fillOpacity&quot;: 0.6, &quot;fillRule&quot;: &quot;evenodd&quot;, &quot;lineCap&quot;: &quot;round&quot;, &quot;lineJoin&quot;: &quot;round&quot;, &quot;opacity&quot;: 1.0, &quot;radius&quot;: 1000, &quot;stroke&quot;: true, &quot;weight&quot;: 3}\n            ).addTo(map_fd2536cc9feea65a9a4b348189bdfb55);\n        \n    \n        var popup_9f934480d5ad2c8cc10e5e40b30460a4 = L.popup({\n  &quot;maxWidth&quot;: &quot;100%&quot;,\n});\n\n        \n            \n                var html_91037a4d4564a97402d236a262ded740 = $(`&lt;div id=&quot;html_91037a4d4564a97402d236a262ded740&quot; style=&quot;width: 100.0%; height: 100.0%;&quot;&gt;Launch Site: CCAFS SLC-40&lt;/div&gt;`)[0];\n                popup_9f934480d5ad2c8cc10e5e40b30460a4.setContent(html_91037a4d4564a97402d236a262ded740);\n            \n        \n\n        circle_457a0703234d67de6020fc42edd1da8e.bindPopup(popup_9f934480d5ad2c8cc10e5e40b30460a4)\n        ;\n\n        \n    \n    \n            var marker_e48d6ff080a0be7838070285cbe69b7e = L.marker(\n                [28.56319718, -80.57682003],\n                {\n}\n            ).addTo(map_fd2536cc9feea65a9a4b348189bdfb55);\n        \n    \n            var div_icon_8e9d7e818b3daf9a24fb621f1fed17fc = L.divIcon({\n  &quot;html&quot;: &quot;\\u003cdiv style=\\&quot;font-size: 12px; color:#d35400;\\&quot;\\u003e\\u003cb\\u003eCCAFS SLC-40\\u003c/b\\u003e\\u003c/div\\u003e&quot;,\n  &quot;iconSize&quot;: [20, 20],\n  &quot;iconAnchor&quot;: [0, 0],\n  &quot;className&quot;: &quot;empty&quot;,\n});\n        \n    \n                marker_e48d6ff080a0be7838070285cbe69b7e.setIcon(div_icon_8e9d7e818b3daf9a24fb621f1fed17fc);\n            \n    \n            var circle_15cd566f60b9d2c9b764cc6d0a4d5a2c = L.circle(\n                [28.57325457, -80.64689529],\n                {&quot;bubblingMouseEvents&quot;: true, &quot;color&quot;: &quot;blue&quot;, &quot;dashArray&quot;: null, &quot;dashOffset&quot;: null, &quot;fill&quot;: true, &quot;fillColor&quot;: &quot;yellow&quot;, &quot;fillOpacity&quot;: 0.6, &quot;fillRule&quot;: &quot;evenodd&quot;, &quot;lineCap&quot;: &quot;round&quot;, &quot;lineJoin&quot;: &quot;round&quot;, &quot;opacity&quot;: 1.0, &quot;radius&quot;: 1000, &quot;stroke&quot;: true, &quot;weight&quot;: 3}\n            ).addTo(map_fd2536cc9feea65a9a4b348189bdfb55);\n        \n    \n        var popup_0e58be3f8417ea21f9fe5b379724da41 = L.popup({\n  &quot;maxWidth&quot;: &quot;100%&quot;,\n});\n\n        \n            \n                var html_62cfca1fdfb4dfd5cd648f096599b4dc = $(`&lt;div id=&quot;html_62cfca1fdfb4dfd5cd648f096599b4dc&quot; style=&quot;width: 100.0%; height: 100.0%;&quot;&gt;Launch Site: KSC LC-39A&lt;/div&gt;`)[0];\n                popup_0e58be3f8417ea21f9fe5b379724da41.setContent(html_62cfca1fdfb4dfd5cd648f096599b4dc);\n            \n        \n\n        circle_15cd566f60b9d2c9b764cc6d0a4d5a2c.bindPopup(popup_0e58be3f8417ea21f9fe5b379724da41)\n        ;\n\n        \n    \n    \n            var marker_f0b78d3248da940416d7cfdb5d0b0a98 = L.marker(\n                [28.57325457, -80.64689529],\n                {\n}\n            ).addTo(map_fd2536cc9feea65a9a4b348189bdfb55);\n        \n    \n            var div_icon_4d4d128a4a56531d7629be3fec1976fc = L.divIcon({\n  &quot;html&quot;: &quot;\\u003cdiv style=\\&quot;font-size: 12px; color:#d35400;\\&quot;\\u003e\\u003cb\\u003eKSC LC-39A\\u003c/b\\u003e\\u003c/div\\u003e&quot;,\n  &quot;iconSize&quot;: [20, 20],\n  &quot;iconAnchor&quot;: [0, 0],\n  &quot;className&quot;: &quot;empty&quot;,\n});\n        \n    \n                marker_f0b78d3248da940416d7cfdb5d0b0a98.setIcon(div_icon_4d4d128a4a56531d7629be3fec1976fc);\n            \n    \n            var circle_d71f8f80442047e4374c6bb4ab481e35 = L.circle(\n                [34.63283416, -120.6107455],\n                {&quot;bubblingMouseEvents&quot;: true, &quot;color&quot;: &quot;blue&quot;, &quot;dashArray&quot;: null, &quot;dashOffset&quot;: null, &quot;fill&quot;: true, &quot;fillColor&quot;: &quot;yellow&quot;, &quot;fillOpacity&quot;: 0.6, &quot;fillRule&quot;: &quot;evenodd&quot;, &quot;lineCap&quot;: &quot;round&quot;, &quot;lineJoin&quot;: &quot;round&quot;, &quot;opacity&quot;: 1.0, &quot;radius&quot;: 1000, &quot;stroke&quot;: true, &quot;weight&quot;: 3}\n            ).addTo(map_fd2536cc9feea65a9a4b348189bdfb55);\n        \n    \n        var popup_f5923827c751fce57225fc3239d88a2c = L.popup({\n  &quot;maxWidth&quot;: &quot;100%&quot;,\n});\n\n        \n            \n                var html_f8b3b189eaa2cda7f49df10c13a6cc66 = $(`&lt;div id=&quot;html_f8b3b189eaa2cda7f49df10c13a6cc66&quot; style=&quot;width: 100.0%; height: 100.0%;&quot;&gt;Launch Site: VAFB SLC-4E&lt;/div&gt;`)[0];\n                popup_f5923827c751fce57225fc3239d88a2c.setContent(html_f8b3b189eaa2cda7f49df10c13a6cc66);\n            \n        \n\n        circle_d71f8f80442047e4374c6bb4ab481e35.bindPopup(popup_f5923827c751fce57225fc3239d88a2c)\n        ;\n\n        \n    \n    \n            var marker_936e0dd612ba29e9c73a5c2410d79363 = L.marker(\n                [34.63283416, -120.6107455],\n                {\n}\n            ).addTo(map_fd2536cc9feea65a9a4b348189bdfb55);\n        \n    \n            var div_icon_bd1515573eea92e0bb88f9b063dbe6c2 = L.divIcon({\n  &quot;html&quot;: &quot;\\u003cdiv style=\\&quot;font-size: 12px; color:#d35400;\\&quot;\\u003e\\u003cb\\u003eVAFB SLC-4E\\u003c/b\\u003e\\u003c/div\\u003e&quot;,\n  &quot;iconSize&quot;: [20, 20],\n  &quot;iconAnchor&quot;: [0, 0],\n  &quot;className&quot;: &quot;empty&quot;,\n});\n        \n    \n                marker_936e0dd612ba29e9c73a5c2410d79363.setIcon(div_icon_bd1515573eea92e0bb88f9b063dbe6c2);\n            \n    \n            tile_layer_1d762bd1cedce86bdfeca8a88474dcff.addTo(map_fd2536cc9feea65a9a4b348189bdfb55);\n        \n    \n                marker_3f5541a343db1ec5cb9cbe8f38e80348.setIcon(div_icon_44433c294f28c3a11258d4d56176998e);\n            \n    \n                marker_e48d6ff080a0be7838070285cbe69b7e.setIcon(div_icon_8e9d7e818b3daf9a24fb621f1fed17fc);\n            \n    \n                marker_f0b78d3248da940416d7cfdb5d0b0a98.setIcon(div_icon_4d4d128a4a56531d7629be3fec1976fc);\n            \n    \n                marker_936e0dd612ba29e9c73a5c2410d79363.setIcon(div_icon_bd1515573eea92e0bb88f9b063dbe6c2);\n            \n    \n            var marker_cluster_181a9fe5381fe15e53e5cd3a5e066dac = L.markerClusterGroup(\n                {\n}\n            );\n        \n    \n            var marker_78f570a7beb6a86e04f5bd4a4af17aa3 = L.marker(\n                [29.559684888503615, -95.0830971930759],\n                {\n}\n            ).addTo(marker_cluster_181a9fe5381fe15e53e5cd3a5e066dac);\n        \n    \n            var div_icon_4d034184288fb8de6acb7ead5ba5c344 = L.divIcon({\n  &quot;html&quot;: &quot;\\u003cdiv style=\\&quot;font-size: 12; color:#d35400;\\&quot;\\u003e\\u003cb\\u003eNASA JSC\\u003c/b\\u003e\\u003c/div\\u003e&quot;,\n  &quot;iconSize&quot;: [20, 20],\n  &quot;iconAnchor&quot;: [0, 0],\n  &quot;className&quot;: &quot;empty&quot;,\n});\n        \n    \n                marker_78f570a7beb6a86e04f5bd4a4af17aa3.setIcon(div_icon_4d034184288fb8de6acb7ead5ba5c344);\n            \n    \n                marker_78f570a7beb6a86e04f5bd4a4af17aa3.setIcon(div_icon_4d034184288fb8de6acb7ead5ba5c344);\n            \n    \n            marker_cluster_181a9fe5381fe15e53e5cd3a5e066dac.addTo(map_fd2536cc9feea65a9a4b348189bdfb55);\n        \n    \n            tile_layer_1d762bd1cedce86bdfeca8a88474dcff.addTo(map_fd2536cc9feea65a9a4b348189bdfb55);\n        \n    \n                marker_3f5541a343db1ec5cb9cbe8f38e80348.setIcon(div_icon_44433c294f28c3a11258d4d56176998e);\n            \n    \n                marker_e48d6ff080a0be7838070285cbe69b7e.setIcon(div_icon_8e9d7e818b3daf9a24fb621f1fed17fc);\n            \n    \n                marker_f0b78d3248da940416d7cfdb5d0b0a98.setIcon(div_icon_4d4d128a4a56531d7629be3fec1976fc);\n            \n    \n                marker_936e0dd612ba29e9c73a5c2410d79363.setIcon(div_icon_bd1515573eea92e0bb88f9b063dbe6c2);\n            \n    \n                marker_78f570a7beb6a86e04f5bd4a4af17aa3.setIcon(div_icon_4d034184288fb8de6acb7ead5ba5c344);\n            \n    \n            marker_cluster_181a9fe5381fe15e53e5cd3a5e066dac.addTo(map_fd2536cc9feea65a9a4b348189bdfb55);\n        \n    \n            var marker_cc877b4d1b7b885aedf8083152609c21 = L.marker(\n                [28.56367, -80.57163],\n                {\n}\n            ).addTo(map_fd2536cc9feea65a9a4b348189bdfb55);\n        \n    \n            var div_icon_9b204cfafd7cc5e25cb78e3580e648df = L.divIcon({\n  &quot;html&quot;: &quot;\\u003cdiv style=\\&quot;font-size: 12px; color:#d35400;\\&quot;\\u003e\\u003cb\\u003e0.58 KM\\u003c/b\\u003e\\u003c/div\\u003e&quot;,\n  &quot;iconSize&quot;: [20, 20],\n  &quot;iconAnchor&quot;: [0, 0],\n  &quot;className&quot;: &quot;empty&quot;,\n});\n        \n    \n                marker_cc877b4d1b7b885aedf8083152609c21.setIcon(div_icon_9b204cfafd7cc5e25cb78e3580e648df);\n            \n&lt;/script&gt;\n&lt;/html&gt;\" style=\"position:absolute;width:100%;height:100%;left:0;top:0;border:none !important;\" allowfullscreen webkitallowfullscreen mozallowfullscreen></iframe></div></div>"
          },
          "metadata": {}
        }
      ],
      "execution_count": 32
    },
    {
      "cell_type": "markdown",
      "source": "*TODO:* Draw a `PolyLine` between a launch site to the selected coastline point\n",
      "metadata": {}
    },
    {
      "cell_type": "code",
      "source": "# Create a `folium.PolyLine` object using the coastline coordinates and launch site coordinate\n# lines=folium.PolyLine(locations=coordinates, weight=1)\nsite_map.add_child(lines)",
      "metadata": {},
      "outputs": [],
      "execution_count": null
    },
    {
      "cell_type": "markdown",
      "source": "Your updated map with distance line should look like the following screenshot:\n",
      "metadata": {}
    },
    {
      "cell_type": "markdown",
      "source": "<center>\n    <img src=\"https://cf-courses-data.s3.us.cloud-object-storage.appdomain.cloud/IBM-DS0321EN-SkillsNetwork/labs/module_3/images/launch_site_marker_distance.png\">\n</center>\n",
      "metadata": {}
    },
    {
      "cell_type": "markdown",
      "source": "*TODO:* Similarly, you can draw a line betwee a launch site to its closest city, railway, highway, etc. You need to use `MousePosition` to find the their coordinates on the map first\n",
      "metadata": {}
    },
    {
      "cell_type": "markdown",
      "source": "A railway map symbol may look like this:\n",
      "metadata": {}
    },
    {
      "cell_type": "markdown",
      "source": "<center>\n    <img src=\"https://cf-courses-data.s3.us.cloud-object-storage.appdomain.cloud/IBM-DS0321EN-SkillsNetwork/labs/module_3/images/railway.png\">\n</center>\n",
      "metadata": {}
    },
    {
      "cell_type": "markdown",
      "source": "A highway map symbol may look like this:\n",
      "metadata": {}
    },
    {
      "cell_type": "markdown",
      "source": "<center>\n    <img src=\"https://cf-courses-data.s3.us.cloud-object-storage.appdomain.cloud/IBM-DS0321EN-SkillsNetwork/labs/module_3/images/highway.png\">\n</center>\n",
      "metadata": {}
    },
    {
      "cell_type": "markdown",
      "source": "A city map symbol may look like this:\n",
      "metadata": {}
    },
    {
      "cell_type": "markdown",
      "source": "<center>\n    <img src=\"https://cf-courses-data.s3.us.cloud-object-storage.appdomain.cloud/IBM-DS0321EN-SkillsNetwork/labs/module_3/images/city.png\">\n</center>\n",
      "metadata": {}
    },
    {
      "cell_type": "code",
      "source": "# Create a marker with distance to a closest city, railway, highway, etc.\n# Draw a line between the marker to the launch site\n",
      "metadata": {},
      "outputs": [],
      "execution_count": null
    },
    {
      "cell_type": "code",
      "source": "",
      "metadata": {},
      "outputs": [],
      "execution_count": null
    },
    {
      "cell_type": "code",
      "source": "",
      "metadata": {},
      "outputs": [],
      "execution_count": null
    },
    {
      "cell_type": "markdown",
      "source": "After you plot distance lines to the proximities, you can answer the following questions easily:\n\n*   Are launch sites in close proximity to railways?\n*   Are launch sites in close proximity to highways?\n*   Are launch sites in close proximity to coastline?\n*   Do launch sites keep certain distance away from cities?\n\nAlso please try to explain your findings.\n",
      "metadata": {}
    },
    {
      "cell_type": "markdown",
      "source": "# Next Steps:\n\nNow you have discovered many interesting insights related to the launch sites' location using folium, in a very interactive way. Next, you will need to build a dashboard using Ploty Dash on detailed launch records.\n",
      "metadata": {}
    },
    {
      "cell_type": "markdown",
      "source": "",
      "metadata": {}
    },
    {
      "cell_type": "markdown",
      "source": "",
      "metadata": {}
    },
    {
      "cell_type": "markdown",
      "source": "<!--## Change Log--!>\n",
      "metadata": {}
    },
    {
      "cell_type": "markdown",
      "source": "",
      "metadata": {}
    },
    {
      "cell_type": "markdown",
      "source": "",
      "metadata": {}
    }
  ]
}
